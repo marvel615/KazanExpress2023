{
 "cells": [
  {
   "cell_type": "code",
   "execution_count": 1,
   "metadata": {
    "id": "A2nkVevDDDVF"
   },
   "outputs": [],
   "source": [
    "import os\n",
    "import sys\n",
    "import time\n",
    "from tqdm import tqdm"
   ]
  },
  {
   "cell_type": "code",
   "execution_count": 2,
   "metadata": {
    "id": "BO0M9G9SDG-L"
   },
   "outputs": [],
   "source": [
    "import numpy as np\n",
    "import pandas as pd\n",
    "import matplotlib.pyplot as plt\n",
    "import seaborn as sns"
   ]
  },
  {
   "cell_type": "code",
   "execution_count": 3,
   "metadata": {
    "colab": {
     "base_uri": "https://localhost:8080/"
    },
    "id": "fCn6PSLFanK8",
    "outputId": "5c4a5cf3-fb9e-407a-fa81-0c6d767185fd"
   },
   "outputs": [
    {
     "name": "stdout",
     "output_type": "stream",
     "text": [
      "Mounted at /content/gdrive/\n"
     ]
    }
   ],
   "source": [
    "from google.colab import drive\n",
    "drive.mount('/content/gdrive/')"
   ]
  },
  {
   "cell_type": "code",
   "execution_count": 4,
   "metadata": {
    "id": "7aLVCkppcnsC"
   },
   "outputs": [],
   "source": [
    "!unzip -q /content/gdrive/MyDrive/KE2023-images_numpy_folder.zip"
   ]
  },
  {
   "cell_type": "code",
   "execution_count": 5,
   "metadata": {
    "colab": {
     "base_uri": "https://localhost:8080/"
    },
    "id": "dH-oktzoEBuS",
    "outputId": "08d497d3-4c97-45bc-d1f0-e79285587754"
   },
   "outputs": [
    {
     "name": "stdout",
     "output_type": "stream",
     "text": [
      "gdrive\timages_numpy_folder  sample_data\n"
     ]
    }
   ],
   "source": [
    "!ls "
   ]
  },
  {
   "cell_type": "code",
   "execution_count": 6,
   "metadata": {
    "colab": {
     "base_uri": "https://localhost:8080/"
    },
    "id": "dVFSxGypp_Mo",
    "outputId": "f577c71d-5711-438a-c59c-45313b8704d5"
   },
   "outputs": [
    {
     "name": "stdout",
     "output_type": "stream",
     "text": [
      "test_desc_images.csv  train_desc_images.csv  train_labels_np.npy\n",
      "test_images_np.npy    train_images_np.npy\n"
     ]
    }
   ],
   "source": [
    "!ls images_numpy_folder"
   ]
  },
  {
   "cell_type": "markdown",
   "metadata": {},
   "source": [
    "Не забудьте положить .npy файлы, которые представляют картинки (train_images_np и test_images_np) и лейблы для train (train_labels_np) в папку с этим .ipynb-файлом. Numpy файлы получены в папке \"1 images_folder\""
   ]
  },
  {
   "cell_type": "code",
   "execution_count": 3,
   "metadata": {
    "id": "L5rt3EcjD5XD"
   },
   "outputs": [],
   "source": [
    "path_folder = 'images_numpy_folder'"
   ]
  },
  {
   "cell_type": "code",
   "execution_count": 4,
   "metadata": {
    "id": "mrwGygzgYxmU"
   },
   "outputs": [],
   "source": [
    "train_data_path = os.path.join(path_folder, \"train_images_np.npy\")\n",
    "train_labels_path = os.path.join(path_folder, \"train_labels_np.npy\")\n",
    "test_data_path = os.path.join(path_folder, \"test_images_np.npy\")"
   ]
  },
  {
   "cell_type": "code",
   "execution_count": 5,
   "metadata": {
    "id": "G-LeCFo0FkLQ"
   },
   "outputs": [],
   "source": [
    "train_images = np.load(train_data_path)\n",
    "train_labels = np.load(train_labels_path)"
   ]
  },
  {
   "cell_type": "code",
   "execution_count": 6,
   "metadata": {
    "id": "-zl0AIALRS4M"
   },
   "outputs": [],
   "source": [
    "train_shuffle_param = np.arange(len(train_images))\n",
    "\n",
    "# перемешаем индексы\n",
    "np.random.shuffle(train_shuffle_param)\n",
    "\n",
    "# перемешаем данные так как изначально у нас товары по категориям идут подряд\n",
    "train_images, train_labels = train_images[train_shuffle_param], train_labels[train_shuffle_param]"
   ]
  },
  {
   "cell_type": "code",
   "execution_count": 7,
   "metadata": {
    "id": "yLfKtHfzIm53"
   },
   "outputs": [],
   "source": [
    "import keras\n",
    "from keras.models import Sequential\n",
    "from keras.layers import Conv2D, MaxPooling2D, ZeroPadding2D\n",
    "from keras.layers import Activation, Dropout, Flatten, Dense"
   ]
  },
  {
   "cell_type": "code",
   "execution_count": 8,
   "metadata": {
    "colab": {
     "base_uri": "https://localhost:8080/"
    },
    "id": "X02SNkQ2Im8p",
    "outputId": "2d9fb93c-0204-4268-e3a9-0f97856dfd55"
   },
   "outputs": [
    {
     "name": "stderr",
     "output_type": "stream",
     "text": [
      "/usr/local/lib/python3.9/dist-packages/keras/backend.py:451: UserWarning: `tf.keras.backend.set_learning_phase` is deprecated and will be removed after 2020-10-11. To update it, simply pass a True/False value to the `training` argument of the `__call__` method of your layer or model.\n",
      "  warnings.warn(\n"
     ]
    }
   ],
   "source": [
    "from keras import backend as K\n",
    "K.set_image_data_format('channels_last')\n",
    "K.set_learning_phase(1)"
   ]
  },
  {
   "cell_type": "code",
   "execution_count": 9,
   "metadata": {
    "id": "fjTOGSEQglxU"
   },
   "outputs": [],
   "source": [
    "test_images = np.load(test_data_path)"
   ]
  },
  {
   "cell_type": "code",
   "execution_count": 10,
   "metadata": {
    "colab": {
     "base_uri": "https://localhost:8080/"
    },
    "id": "KOYF5jgsIm-_",
    "outputId": "8ebb1130-6502-4557-9f4d-ddc5a4bc4905"
   },
   "outputs": [
    {
     "data": {
      "text/plain": [
       "(27968, 64, 64, 3)"
      ]
     },
     "execution_count": 10,
     "metadata": {},
     "output_type": "execute_result"
    }
   ],
   "source": [
    "train_images.shape"
   ]
  },
  {
   "cell_type": "code",
   "execution_count": 11,
   "metadata": {
    "id": "Ka5UvL-vInCC"
   },
   "outputs": [],
   "source": [
    "input_shape = train_images.shape[1::] #(64, 64, 3)"
   ]
  },
  {
   "cell_type": "code",
   "execution_count": 13,
   "metadata": {
    "id": "3A280W7cktRF"
   },
   "outputs": [],
   "source": [
    "def recall_m(y_true, y_pred):\n",
    "    true_positives = K.sum(K.round(K.clip(y_true * y_pred, 0, 1)))\n",
    "    possible_positives = K.sum(K.round(K.clip(y_true, 0, 1)))\n",
    "    recall = true_positives / (possible_positives + K.epsilon())\n",
    "    return recall"
   ]
  },
  {
   "cell_type": "code",
   "execution_count": 14,
   "metadata": {
    "id": "yfB5aPqVktpJ"
   },
   "outputs": [],
   "source": [
    "def precision_m(y_true, y_pred):\n",
    "    true_positives = K.sum(K.round(K.clip(y_true * y_pred, 0, 1)))\n",
    "    predicted_positives = K.sum(K.round(K.clip(y_pred, 0, 1)))\n",
    "    precision = true_positives / (predicted_positives + K.epsilon())\n",
    "    return precision"
   ]
  },
  {
   "cell_type": "code",
   "execution_count": 15,
   "metadata": {
    "id": "zEPkbGSBkvoB"
   },
   "outputs": [],
   "source": [
    "def f1_m(y_true, y_pred):\n",
    "    precision = precision_m(y_true, y_pred)\n",
    "    recall = recall_m(y_true, y_pred)\n",
    "    return 2*((precision*recall)/(precision+recall+K.epsilon()))"
   ]
  },
  {
   "cell_type": "code",
   "execution_count": 11,
   "metadata": {
    "id": "bGSdCx6tInH6"
   },
   "outputs": [],
   "source": [
    "image_model = Sequential() # Создание модели"
   ]
  },
  {
   "cell_type": "code",
   "execution_count": 12,
   "metadata": {
    "id": "QN2YEKBvJahT"
   },
   "outputs": [],
   "source": [
    "# Первый слой \n",
    "image_model.add(ZeroPadding2D(padding=1)) # обрамим картинку 64x64 нулями, получим 66x66\n",
    "image_model.add(Conv2D(6, (5, 5), input_shape=input_shape)) # получим 62х62\n",
    "image_model.add(Activation('relu'))\n",
    "image_model.add(MaxPooling2D(pool_size=(2, 2))) # сделаем пулинг, получим картинку 61x61"
   ]
  },
  {
   "cell_type": "code",
   "execution_count": 13,
   "metadata": {
    "id": "NQLlr5UCJc4k"
   },
   "outputs": [],
   "source": [
    "# Второй слой\n",
    "image_model.add(Conv2D(16, (5, 5))) # получим 57х57\n",
    "image_model.add(Activation('relu'))\n",
    "image_model.add(MaxPooling2D(pool_size=(3, 3), strides=(2,2))) #получим 20х20"
   ]
  },
  {
   "cell_type": "code",
   "execution_count": 14,
   "metadata": {
    "id": "5aoso37bKa0p"
   },
   "outputs": [],
   "source": [
    "# Третий слой\n",
    "image_model.add(Flatten())\n",
    "image_model.add(Dense(3200))\n",
    "image_model.add(Activation('relu'))\n",
    "image_model.add(Dropout(0.15))\n",
    "\n",
    "image_model.add(Dense(1600))\n",
    "image_model.add(Activation('relu'))\n",
    "image_model.add(Dropout(0.1))\n",
    "\n",
    "image_model.add(Dense(874))# число классов\n",
    "image_model.add(Activation('softmax'))"
   ]
  },
  {
   "cell_type": "code",
   "execution_count": 18,
   "metadata": {
    "id": "hK6CwyS8Ka3l"
   },
   "outputs": [],
   "source": [
    "# компилируем модель\n",
    "image_model.compile(loss='categorical_crossentropy',\n",
    "              optimizer='rmsprop',\n",
    "              metrics=['accuracy', f1_m, precision_m, recall_m])"
   ]
  },
  {
   "cell_type": "code",
   "execution_count": 19,
   "metadata": {
    "colab": {
     "base_uri": "https://localhost:8080/"
    },
    "id": "zmgUfOKKJc-X",
    "outputId": "2554ec38-488f-45a9-fc4a-6301abebea9f"
   },
   "outputs": [
    {
     "name": "stdout",
     "output_type": "stream",
     "text": [
      "Epoch 1/7\n",
      "743/743 [==============================] - 18s 9ms/step - loss: 6.4831 - accuracy: 0.0152 - f1_m: 0.0038 - precision_m: 0.0565 - recall_m: 0.0020 - val_loss: 6.0002 - val_accuracy: 0.0500 - val_f1_m: 0.0211 - val_precision_m: 0.2538 - val_recall_m: 0.0111\n",
      "Epoch 2/7\n",
      "743/743 [==============================] - 6s 9ms/step - loss: 5.3904 - accuracy: 0.1219 - f1_m: 0.0790 - precision_m: 0.6154 - recall_m: 0.0432 - val_loss: 4.9049 - val_accuracy: 0.1976 - val_f1_m: 0.1417 - val_precision_m: 0.8143 - val_recall_m: 0.0791\n",
      "Epoch 3/7\n",
      "743/743 [==============================] - 6s 8ms/step - loss: 4.0923 - accuracy: 0.2898 - f1_m: 0.2902 - precision_m: 0.8678 - recall_m: 0.1783 - val_loss: 4.2547 - val_accuracy: 0.3160 - val_f1_m: 0.3400 - val_precision_m: 0.8446 - val_recall_m: 0.2176\n",
      "Epoch 4/7\n",
      "743/743 [==============================] - 7s 9ms/step - loss: 2.9947 - accuracy: 0.4386 - f1_m: 0.4685 - precision_m: 0.8794 - recall_m: 0.3237 - val_loss: 4.0173 - val_accuracy: 0.3727 - val_f1_m: 0.4376 - val_precision_m: 0.8369 - val_recall_m: 0.3004\n",
      "Epoch 5/7\n",
      "743/743 [==============================] - 6s 8ms/step - loss: 2.0724 - accuracy: 0.5718 - f1_m: 0.5998 - precision_m: 0.8808 - recall_m: 0.4599 - val_loss: 4.1081 - val_accuracy: 0.4135 - val_f1_m: 0.4971 - val_precision_m: 0.8001 - val_recall_m: 0.3641\n",
      "Epoch 6/7\n",
      "743/743 [==============================] - 6s 8ms/step - loss: 1.3491 - accuracy: 0.7028 - f1_m: 0.7171 - precision_m: 0.8965 - recall_m: 0.6018 - val_loss: 4.5038 - val_accuracy: 0.4171 - val_f1_m: 0.5003 - val_precision_m: 0.7420 - val_recall_m: 0.3814\n",
      "Epoch 7/7\n",
      "743/743 [==============================] - 7s 9ms/step - loss: 0.9053 - accuracy: 0.7932 - f1_m: 0.8032 - precision_m: 0.9159 - recall_m: 0.7182 - val_loss: 5.1491 - val_accuracy: 0.4328 - val_f1_m: 0.5134 - val_precision_m: 0.6906 - val_recall_m: 0.4119\n"
     ]
    }
   ],
   "source": [
    "# при такой архитектуре лучшее качество на тестовой выборке f1=0.5083. 7 эпох для обучения\n",
    "history1 = image_model.fit(train_images, train_labels, batch_size=32, epochs=7, validation_split=0.15)\n",
    "# при повторном обучении f1-score вырос до 0.5134\n",
    "# Это оказалась самой лучшей моделью, построенной на картинках\n",
    "\n",
    "'''под кодом с построением моделей на keras, построю аналогичную модель на PyTorch на случай, \n",
    "если проверяющие будут проверять решение фреймворком PyTorch '''"
   ]
  },
  {
   "cell_type": "code",
   "execution_count": 20,
   "metadata": {
    "colab": {
     "base_uri": "https://localhost:8080/",
     "height": 265
    },
    "id": "MBLTe9QVN5Ix",
    "outputId": "5d523053-bfde-45ea-c254-b5e4fc411e90"
   },
   "outputs": [
    {
     "data": {
      "image/png": "[encoded data removed]",
      "text/plain": [
       "<Figure size 432x288 with 1 Axes>"
      ]
     },
     "metadata": {
      "needs_background": "light"
     },
     "output_type": "display_data"
    }
   ],
   "source": [
    "plt.plot(history1.history['f1_m'], label='train')\n",
    "plt.plot(history1.history['val_f1_m'], label='test')\n",
    "plt.legend()\n",
    "plt.show()"
   ]
  },
  {
   "cell_type": "code",
   "execution_count": 29,
   "metadata": {
    "colab": {
     "base_uri": "https://localhost:8080/"
    },
    "id": "ouG-dSAxe7Sq",
    "outputId": "ed3d7d18-663f-45eb-a476-ee3b56e3ffef"
   },
   "outputs": [
    {
     "name": "stdout",
     "output_type": "stream",
     "text": [
      "527/527 [==============================] - 1s 3ms/step\n"
     ]
    }
   ],
   "source": [
    "preds1 = image_model.predict(test_images)\n",
    "np.save('preds_images.npy', preds1) # запишем ответ"
   ]
  },
  {
   "cell_type": "code",
   "execution_count": null,
   "metadata": {
    "id": "DxZiYMR3fir0"
   },
   "outputs": [],
   "source": []
  },
  {
   "cell_type": "code",
   "execution_count": 21,
   "metadata": {
    "id": "sYsQN9QZUFlI"
   },
   "outputs": [],
   "source": [
    "#Расширим архитектуру\n",
    "net_image = Sequential() # Создание модели\n",
    "\n",
    "# Первый слой \n",
    "net_image.add(ZeroPadding2D(padding=1)) # обрамим картинку 64x64 нулями, получим 66x66\n",
    "net_image.add(Conv2D(6, (5, 5), input_shape=input_shape)) # получим 62х62\n",
    "net_image.add(Activation('relu'))\n",
    "net_image.add(MaxPooling2D(pool_size=(2, 2))) # сделаем пулинг, получим картинку 61x61\n",
    "\n",
    "# Второй слой\n",
    "net_image.add(Conv2D(16, (5, 5))) # получим 57х57\n",
    "net_image.add(Activation('relu'))\n",
    "net_image.add(MaxPooling2D(pool_size=(2, 2))) #  56x56\n",
    "\n",
    "# Третий слой\n",
    "net_image.add(ZeroPadding2D(padding=1)) # обрамим картинку 56x56 нулями, получим 58x58\n",
    "net_image.add(Conv2D(32, (5, 5))) # получим 54х54\n",
    "net_image.add(Activation('relu'))\n",
    "net_image.add(MaxPooling2D(pool_size=(2, 2))) # сделаем пулинг, получим картинку 63x63\n",
    "\n",
    "net_image.add(MaxPooling2D(pool_size=(3, 3), strides=(2,2))) #получим 22х22\n",
    "\n",
    "# Четвёртый слой\n",
    "net_image.add(Flatten())\n",
    "net_image.add(Dense(3200))\n",
    "net_image.add(Activation('relu'))\n",
    "net_image.add(Dropout(0.15))\n",
    "\n",
    "net_image.add(Dense(1600))\n",
    "net_image.add(Activation('relu'))\n",
    "net_image.add(Dropout(0.1))\n",
    "\n",
    "net_image.add(Dense(874))# число классов\n",
    "net_image.add(Activation('softmax'))"
   ]
  },
  {
   "cell_type": "code",
   "execution_count": 22,
   "metadata": {
    "id": "jERrdp71UFqk"
   },
   "outputs": [],
   "source": [
    "net_image.compile(loss=\"categorical_crossentropy\", \n",
    "                  optimizer=\"rmsprop\", \n",
    "                  metrics=['accuracy', f1_m, precision_m, recall_m])"
   ]
  },
  {
   "cell_type": "code",
   "execution_count": 23,
   "metadata": {
    "colab": {
     "base_uri": "https://localhost:8080/"
    },
    "id": "4uVLCCXmUFwL",
    "outputId": "9268f321-5579-470f-9db5-79b517542f9d"
   },
   "outputs": [
    {
     "name": "stdout",
     "output_type": "stream",
     "text": [
      "Epoch 1/30\n",
      "743/743 [==============================] - 8s 8ms/step - loss: 6.6513 - accuracy: 0.0033 - f1_m: 8.1569e-05 - precision_m: 0.0013 - recall_m: 4.2059e-05 - val_loss: 6.3771 - val_accuracy: 0.0081 - val_f1_m: 0.0000e+00 - val_precision_m: 0.0000e+00 - val_recall_m: 0.0000e+00\n",
      "Epoch 2/30\n",
      "743/743 [==============================] - 6s 8ms/step - loss: 6.1115 - accuracy: 0.0270 - f1_m: 0.0046 - precision_m: 0.0702 - recall_m: 0.0024 - val_loss: 5.7871 - val_accuracy: 0.0503 - val_f1_m: 0.0105 - val_precision_m: 0.1515 - val_recall_m: 0.0054\n",
      "Epoch 3/30\n",
      "743/743 [==============================] - 5s 7ms/step - loss: 5.5443 - accuracy: 0.0721 - f1_m: 0.0285 - precision_m: 0.3305 - recall_m: 0.0150 - val_loss: 5.3625 - val_accuracy: 0.0999 - val_f1_m: 0.0530 - val_precision_m: 0.5040 - val_recall_m: 0.0284\n",
      "Epoch 4/30\n",
      "743/743 [==============================] - 5s 7ms/step - loss: 4.9938 - accuracy: 0.1397 - f1_m: 0.0895 - precision_m: 0.6602 - recall_m: 0.0489 - val_loss: 4.9902 - val_accuracy: 0.1594 - val_f1_m: 0.1045 - val_precision_m: 0.7485 - val_recall_m: 0.0571\n",
      "Epoch 5/30\n",
      "743/743 [==============================] - 6s 8ms/step - loss: 4.4796 - accuracy: 0.2148 - f1_m: 0.1737 - precision_m: 0.7893 - recall_m: 0.1000 - val_loss: 4.6296 - val_accuracy: 0.2171 - val_f1_m: 0.1856 - val_precision_m: 0.8180 - val_recall_m: 0.1070\n",
      "Epoch 6/30\n",
      "743/743 [==============================] - 5s 7ms/step - loss: 3.9831 - accuracy: 0.2845 - f1_m: 0.2647 - precision_m: 0.8219 - recall_m: 0.1614 - val_loss: 4.3759 - val_accuracy: 0.2743 - val_f1_m: 0.2457 - val_precision_m: 0.8456 - val_recall_m: 0.1468\n",
      "Epoch 7/30\n",
      "743/743 [==============================] - 6s 8ms/step - loss: 3.5596 - accuracy: 0.3477 - f1_m: 0.3419 - precision_m: 0.8318 - recall_m: 0.2192 - val_loss: 4.2294 - val_accuracy: 0.3062 - val_f1_m: 0.3018 - val_precision_m: 0.8533 - val_recall_m: 0.1877\n",
      "Epoch 8/30\n",
      "743/743 [==============================] - 5s 7ms/step - loss: 3.1754 - accuracy: 0.3997 - f1_m: 0.4060 - precision_m: 0.8372 - recall_m: 0.2730 - val_loss: 4.1888 - val_accuracy: 0.3327 - val_f1_m: 0.3663 - val_precision_m: 0.8287 - val_recall_m: 0.2398\n",
      "Epoch 9/30\n",
      "743/743 [==============================] - 5s 7ms/step - loss: 2.8650 - accuracy: 0.4414 - f1_m: 0.4538 - precision_m: 0.8312 - recall_m: 0.3170 - val_loss: 4.0558 - val_accuracy: 0.3518 - val_f1_m: 0.3711 - val_precision_m: 0.8611 - val_recall_m: 0.2403\n",
      "Epoch 10/30\n",
      "743/743 [==============================] - 5s 7ms/step - loss: 2.5911 - accuracy: 0.4882 - f1_m: 0.4994 - precision_m: 0.8384 - recall_m: 0.3609 - val_loss: 4.2057 - val_accuracy: 0.3742 - val_f1_m: 0.4340 - val_precision_m: 0.7913 - val_recall_m: 0.3030\n",
      "Epoch 11/30\n",
      "743/743 [==============================] - 5s 7ms/step - loss: 2.3709 - accuracy: 0.5186 - f1_m: 0.5337 - precision_m: 0.8405 - recall_m: 0.3960 - val_loss: 4.1330 - val_accuracy: 0.3758 - val_f1_m: 0.4324 - val_precision_m: 0.7854 - val_recall_m: 0.3028\n",
      "Epoch 12/30\n",
      "743/743 [==============================] - 6s 8ms/step - loss: 2.1864 - accuracy: 0.5533 - f1_m: 0.5664 - precision_m: 0.8477 - recall_m: 0.4305 - val_loss: 4.5006 - val_accuracy: 0.3868 - val_f1_m: 0.4528 - val_precision_m: 0.7240 - val_recall_m: 0.3338\n",
      "Epoch 13/30\n",
      "743/743 [==============================] - 5s 7ms/step - loss: 2.0117 - accuracy: 0.5858 - f1_m: 0.5963 - precision_m: 0.8506 - recall_m: 0.4637 - val_loss: 4.3600 - val_accuracy: 0.4037 - val_f1_m: 0.4775 - val_precision_m: 0.7558 - val_recall_m: 0.3532\n",
      "Epoch 14/30\n",
      "743/743 [==============================] - 5s 7ms/step - loss: 1.9149 - accuracy: 0.6044 - f1_m: 0.6155 - precision_m: 0.8502 - recall_m: 0.4871 - val_loss: 4.6003 - val_accuracy: 0.4144 - val_f1_m: 0.4947 - val_precision_m: 0.7308 - val_recall_m: 0.3774\n",
      "Epoch 15/30\n",
      "743/743 [==============================] - 5s 7ms/step - loss: 1.7820 - accuracy: 0.6278 - f1_m: 0.6396 - precision_m: 0.8552 - recall_m: 0.5156 - val_loss: 4.6401 - val_accuracy: 0.4087 - val_f1_m: 0.4769 - val_precision_m: 0.7383 - val_recall_m: 0.3561\n",
      "Epoch 16/30\n",
      "743/743 [==============================] - 5s 7ms/step - loss: 1.6803 - accuracy: 0.6467 - f1_m: 0.6588 - precision_m: 0.8595 - recall_m: 0.5389 - val_loss: 4.6611 - val_accuracy: 0.4128 - val_f1_m: 0.4883 - val_precision_m: 0.7296 - val_recall_m: 0.3705\n",
      "Epoch 17/30\n",
      "743/743 [==============================] - 6s 8ms/step - loss: 1.6065 - accuracy: 0.6617 - f1_m: 0.6749 - precision_m: 0.8645 - recall_m: 0.5577 - val_loss: 4.9706 - val_accuracy: 0.3935 - val_f1_m: 0.4724 - val_precision_m: 0.7310 - val_recall_m: 0.3535\n",
      "Epoch 18/30\n",
      "743/743 [==============================] - 5s 7ms/step - loss: 1.5273 - accuracy: 0.6819 - f1_m: 0.6961 - precision_m: 0.8688 - recall_m: 0.5848 - val_loss: 4.8956 - val_accuracy: 0.4023 - val_f1_m: 0.4767 - val_precision_m: 0.7294 - val_recall_m: 0.3594\n",
      "Epoch 19/30\n",
      "743/743 [==============================] - 6s 7ms/step - loss: 1.4831 - accuracy: 0.6916 - f1_m: 0.7016 - precision_m: 0.8698 - recall_m: 0.5920 - val_loss: 5.0689 - val_accuracy: 0.4233 - val_f1_m: 0.5002 - val_precision_m: 0.7018 - val_recall_m: 0.3925\n",
      "Epoch 20/30\n",
      "743/743 [==============================] - 6s 8ms/step - loss: 1.4155 - accuracy: 0.7049 - f1_m: 0.7159 - precision_m: 0.8718 - recall_m: 0.6114 - val_loss: 5.2633 - val_accuracy: 0.3968 - val_f1_m: 0.4734 - val_precision_m: 0.6881 - val_recall_m: 0.3648\n",
      "Epoch 21/30\n",
      "743/743 [==============================] - 5s 7ms/step - loss: 1.3945 - accuracy: 0.7141 - f1_m: 0.7246 - precision_m: 0.8744 - recall_m: 0.6219 - val_loss: 5.2961 - val_accuracy: 0.3773 - val_f1_m: 0.4453 - val_precision_m: 0.6825 - val_recall_m: 0.3343\n",
      "Epoch 22/30\n",
      "743/743 [==============================] - 6s 8ms/step - loss: 1.3324 - accuracy: 0.7235 - f1_m: 0.7335 - precision_m: 0.8755 - recall_m: 0.6348 - val_loss: 5.2291 - val_accuracy: 0.4249 - val_f1_m: 0.5054 - val_precision_m: 0.6986 - val_recall_m: 0.3996\n",
      "Epoch 23/30\n",
      "743/743 [==============================] - 5s 7ms/step - loss: 1.3398 - accuracy: 0.7299 - f1_m: 0.7398 - precision_m: 0.8819 - recall_m: 0.6405 - val_loss: 5.3305 - val_accuracy: 0.4097 - val_f1_m: 0.4894 - val_precision_m: 0.7004 - val_recall_m: 0.3797\n",
      "Epoch 24/30\n",
      "743/743 [==============================] - 5s 7ms/step - loss: 1.2933 - accuracy: 0.7405 - f1_m: 0.7489 - precision_m: 0.8852 - recall_m: 0.6523 - val_loss: 5.6306 - val_accuracy: 0.4364 - val_f1_m: 0.5126 - val_precision_m: 0.6861 - val_recall_m: 0.4122\n",
      "Epoch 25/30\n",
      "743/743 [==============================] - 5s 7ms/step - loss: 1.2451 - accuracy: 0.7469 - f1_m: 0.7582 - precision_m: 0.8870 - recall_m: 0.6655 - val_loss: 5.5467 - val_accuracy: 0.4075 - val_f1_m: 0.4826 - val_precision_m: 0.6731 - val_recall_m: 0.3797\n",
      "Epoch 26/30\n",
      "743/743 [==============================] - 5s 7ms/step - loss: 1.2674 - accuracy: 0.7494 - f1_m: 0.7579 - precision_m: 0.8847 - recall_m: 0.6660 - val_loss: 5.6661 - val_accuracy: 0.4159 - val_f1_m: 0.4957 - val_precision_m: 0.6834 - val_recall_m: 0.3918\n",
      "Epoch 27/30\n",
      "743/743 [==============================] - 6s 8ms/step - loss: 1.2409 - accuracy: 0.7534 - f1_m: 0.7609 - precision_m: 0.8843 - recall_m: 0.6712 - val_loss: 5.5715 - val_accuracy: 0.4152 - val_f1_m: 0.4920 - val_precision_m: 0.6896 - val_recall_m: 0.3857\n",
      "Epoch 28/30\n",
      "743/743 [==============================] - 5s 7ms/step - loss: 1.2211 - accuracy: 0.7596 - f1_m: 0.7657 - precision_m: 0.8877 - recall_m: 0.6767 - val_loss: 5.3670 - val_accuracy: 0.4056 - val_f1_m: 0.4809 - val_precision_m: 0.7019 - val_recall_m: 0.3696\n",
      "Epoch 29/30\n",
      "743/743 [==============================] - 6s 7ms/step - loss: 1.1839 - accuracy: 0.7668 - f1_m: 0.7782 - precision_m: 0.8957 - recall_m: 0.6911 - val_loss: 5.5151 - val_accuracy: 0.4185 - val_f1_m: 0.5014 - val_precision_m: 0.7199 - val_recall_m: 0.3887\n",
      "Epoch 30/30\n",
      "743/743 [==============================] - 6s 8ms/step - loss: 1.1595 - accuracy: 0.7719 - f1_m: 0.7808 - precision_m: 0.8959 - recall_m: 0.6952 - val_loss: 6.1585 - val_accuracy: 0.4121 - val_f1_m: 0.4874 - val_precision_m: 0.6443 - val_recall_m: 0.3954\n"
     ]
    }
   ],
   "source": [
    "# при такой архитектуре лучшее качество на тестовой выборке f1=0.5126 за 24 эпохи для обучения\n",
    "history2 = net_image.fit(train_images, train_labels, batch_size=32, epochs=30, validation_split=0.15)"
   ]
  },
  {
   "cell_type": "code",
   "execution_count": 24,
   "metadata": {
    "colab": {
     "base_uri": "https://localhost:8080/",
     "height": 265
    },
    "id": "b_z5osBlZ0B-",
    "outputId": "6d044bf7-4498-4baa-8d2a-ad57960f1b9e"
   },
   "outputs": [
    {
     "data": {
      "image/png": "[encoded data removed]",
      "text/plain": [
       "<Figure size 432x288 with 1 Axes>"
      ]
     },
     "metadata": {
      "needs_background": "light"
     },
     "output_type": "display_data"
    }
   ],
   "source": [
    "plt.plot(history2.history['f1_m'], label='train')\n",
    "plt.plot(history2.history['val_f1_m'], label='test')\n",
    "plt.legend()\n",
    "plt.show()"
   ]
  },
  {
   "cell_type": "code",
   "execution_count": 30,
   "metadata": {
    "id": "KsPMW7WcZ0KH"
   },
   "outputs": [],
   "source": [
    "image_light = Sequential() # Создание модели\n",
    "# Первый слой \n",
    "image_light.add(ZeroPadding2D(padding=1)) # обрамим картинку 64x64 нулями, получим 66x66\n",
    "image_light.add(Conv2D(3, (3, 3), input_shape=input_shape)) # получим 64х64\n",
    "image_light.add(Activation('relu'))\n",
    "image_light.add(MaxPooling2D(pool_size=(2, 2))) # сделаем пулинг, получим картинку 63x63\n",
    "# Второй слой\n",
    "image_light.add(Conv2D(6, (5, 5))) # получим 59х59\n",
    "image_light.add(Activation('relu'))\n",
    "image_light.add(ZeroPadding2D(padding=1)) # обрамим картинку 59х59 нулями, получим 61x61\n",
    "image_light.add(Conv2D(12, (5, 5))) # получим 57х57\n",
    "image_light.add(MaxPooling2D(pool_size=(3, 3), strides=(2,2))) #получим 20х20\n",
    "# Третий слой\n",
    "image_light.add(Flatten())\n",
    "image_light.add(Dense(3200))\n",
    "image_light.add(Activation('relu'))\n",
    "image_light.add(Dropout(0.5))\n",
    "\n",
    "image_light.add(Dense(1600))\n",
    "image_light.add(Activation('relu'))\n",
    "image_light.add(Dropout(0.25))\n",
    "\n",
    "image_light.add(Dense(874))# число классов\n",
    "image_light.add(Activation('softmax'))"
   ]
  },
  {
   "cell_type": "code",
   "execution_count": 31,
   "metadata": {
    "id": "vSvn6QtcN5VL"
   },
   "outputs": [],
   "source": [
    "image_light.compile(loss=\"categorical_crossentropy\", \n",
    "                  optimizer=\"rmsprop\", \n",
    "                  metrics=['accuracy', f1_m, precision_m, recall_m])"
   ]
  },
  {
   "cell_type": "code",
   "execution_count": 32,
   "metadata": {
    "colab": {
     "base_uri": "https://localhost:8080/"
    },
    "id": "XNV6tduEiOyj",
    "outputId": "95402a58-2002-4962-a32a-de58cd322ec7"
   },
   "outputs": [
    {
     "name": "stdout",
     "output_type": "stream",
     "text": [
      "Epoch 1/30\n",
      "743/743 [==============================] - 10s 10ms/step - loss: 6.4762 - accuracy: 0.0160 - f1_m: 0.0034 - precision_m: 0.0471 - recall_m: 0.0018 - val_loss: 6.0148 - val_accuracy: 0.0481 - val_f1_m: 0.0141 - val_precision_m: 0.2083 - val_recall_m: 0.0073\n",
      "Epoch 2/30\n",
      "743/743 [==============================] - 6s 8ms/step - loss: 5.4764 - accuracy: 0.1184 - f1_m: 0.0687 - precision_m: 0.6087 - recall_m: 0.0371 - val_loss: 5.0254 - val_accuracy: 0.1938 - val_f1_m: 0.1484 - val_precision_m: 0.8761 - val_recall_m: 0.0826\n",
      "Epoch 3/30\n",
      "743/743 [==============================] - 9s 12ms/step - loss: 4.3612 - accuracy: 0.2713 - f1_m: 0.2538 - precision_m: 0.8706 - recall_m: 0.1519 - val_loss: 4.3269 - val_accuracy: 0.3029 - val_f1_m: 0.2989 - val_precision_m: 0.9397 - val_recall_m: 0.1823\n",
      "Epoch 4/30\n",
      "743/743 [==============================] - 5s 7ms/step - loss: 3.4590 - accuracy: 0.3856 - f1_m: 0.4072 - precision_m: 0.8913 - recall_m: 0.2687 - val_loss: 4.1152 - val_accuracy: 0.3551 - val_f1_m: 0.4064 - val_precision_m: 0.8698 - val_recall_m: 0.2694\n",
      "Epoch 5/30\n",
      "743/743 [==============================] - 6s 8ms/step - loss: 2.7303 - accuracy: 0.4831 - f1_m: 0.5077 - precision_m: 0.8803 - recall_m: 0.3618 - val_loss: 3.9887 - val_accuracy: 0.3904 - val_f1_m: 0.4503 - val_precision_m: 0.8706 - val_recall_m: 0.3075\n",
      "Epoch 6/30\n",
      "743/743 [==============================] - 6s 8ms/step - loss: 2.1793 - accuracy: 0.5626 - f1_m: 0.5853 - precision_m: 0.8788 - recall_m: 0.4440 - val_loss: 4.4576 - val_accuracy: 0.3856 - val_f1_m: 0.4615 - val_precision_m: 0.7855 - val_recall_m: 0.3305\n",
      "Epoch 7/30\n",
      "743/743 [==============================] - 6s 8ms/step - loss: 1.7501 - accuracy: 0.6318 - f1_m: 0.6498 - precision_m: 0.8770 - recall_m: 0.5206 - val_loss: 4.2862 - val_accuracy: 0.4104 - val_f1_m: 0.4956 - val_precision_m: 0.8268 - val_recall_m: 0.3580\n",
      "Epoch 8/30\n",
      "743/743 [==============================] - 6s 8ms/step - loss: 1.4815 - accuracy: 0.6845 - f1_m: 0.7014 - precision_m: 0.8882 - recall_m: 0.5845 - val_loss: 5.2210 - val_accuracy: 0.3768 - val_f1_m: 0.4539 - val_precision_m: 0.7101 - val_recall_m: 0.3366\n",
      "Epoch 9/30\n",
      "743/743 [==============================] - 5s 7ms/step - loss: 1.2844 - accuracy: 0.7222 - f1_m: 0.7330 - precision_m: 0.8883 - recall_m: 0.6279 - val_loss: 5.2798 - val_accuracy: 0.3787 - val_f1_m: 0.4606 - val_precision_m: 0.7219 - val_recall_m: 0.3414\n",
      "Epoch 10/30\n",
      "743/743 [==============================] - 6s 9ms/step - loss: 1.1744 - accuracy: 0.7444 - f1_m: 0.7581 - precision_m: 0.8949 - recall_m: 0.6609 - val_loss: 5.6556 - val_accuracy: 0.3768 - val_f1_m: 0.4458 - val_precision_m: 0.6731 - val_recall_m: 0.3374\n",
      "Epoch 11/30\n",
      "743/743 [==============================] - 6s 8ms/step - loss: 1.0519 - accuracy: 0.7680 - f1_m: 0.7792 - precision_m: 0.9004 - recall_m: 0.6901 - val_loss: 5.1289 - val_accuracy: 0.4118 - val_f1_m: 0.4902 - val_precision_m: 0.7333 - val_recall_m: 0.3712\n",
      "Epoch 12/30\n",
      "743/743 [==============================] - 6s 8ms/step - loss: 0.9941 - accuracy: 0.7857 - f1_m: 0.7944 - precision_m: 0.9021 - recall_m: 0.7125 - val_loss: 5.7283 - val_accuracy: 0.3992 - val_f1_m: 0.4807 - val_precision_m: 0.6809 - val_recall_m: 0.3738\n",
      "Epoch 13/30\n",
      "743/743 [==============================] - 6s 8ms/step - loss: 0.8969 - accuracy: 0.8059 - f1_m: 0.8140 - precision_m: 0.9107 - recall_m: 0.7384 - val_loss: 5.9061 - val_accuracy: 0.3961 - val_f1_m: 0.4732 - val_precision_m: 0.6735 - val_recall_m: 0.3677\n",
      "Epoch 14/30\n",
      "743/743 [==============================] - 6s 8ms/step - loss: 0.8453 - accuracy: 0.8129 - f1_m: 0.8228 - precision_m: 0.9123 - recall_m: 0.7518 - val_loss: 5.6887 - val_accuracy: 0.4025 - val_f1_m: 0.4842 - val_precision_m: 0.6918 - val_recall_m: 0.3757\n",
      "Epoch 15/30\n",
      "743/743 [==============================] - 6s 8ms/step - loss: 0.8047 - accuracy: 0.8250 - f1_m: 0.8323 - precision_m: 0.9157 - recall_m: 0.7654 - val_loss: 6.3096 - val_accuracy: 0.4049 - val_f1_m: 0.4835 - val_precision_m: 0.6586 - val_recall_m: 0.3849\n",
      "Epoch 16/30\n",
      "743/743 [==============================] - 6s 8ms/step - loss: 0.7461 - accuracy: 0.8368 - f1_m: 0.8450 - precision_m: 0.9201 - recall_m: 0.7834 - val_loss: 5.7240 - val_accuracy: 0.4085 - val_f1_m: 0.4937 - val_precision_m: 0.7090 - val_recall_m: 0.3816\n",
      "Epoch 17/30\n",
      "743/743 [==============================] - 6s 9ms/step - loss: 0.7177 - accuracy: 0.8427 - f1_m: 0.8513 - precision_m: 0.9239 - recall_m: 0.7915 - val_loss: 5.7357 - val_accuracy: 0.4228 - val_f1_m: 0.5087 - val_precision_m: 0.6987 - val_recall_m: 0.4027\n",
      "Epoch 18/30\n",
      "743/743 [==============================] - 6s 8ms/step - loss: 0.6761 - accuracy: 0.8542 - f1_m: 0.8611 - precision_m: 0.9264 - recall_m: 0.8064 - val_loss: 6.1084 - val_accuracy: 0.4111 - val_f1_m: 0.4950 - val_precision_m: 0.6795 - val_recall_m: 0.3923\n",
      "Epoch 19/30\n",
      "743/743 [==============================] - 6s 9ms/step - loss: 0.6624 - accuracy: 0.8604 - f1_m: 0.8655 - precision_m: 0.9271 - recall_m: 0.8132 - val_loss: 5.9164 - val_accuracy: 0.4063 - val_f1_m: 0.4866 - val_precision_m: 0.6904 - val_recall_m: 0.3793\n",
      "Epoch 20/30\n",
      "743/743 [==============================] - 6s 8ms/step - loss: 0.6006 - accuracy: 0.8714 - f1_m: 0.8777 - precision_m: 0.9333 - recall_m: 0.8300 - val_loss: 6.0665 - val_accuracy: 0.4206 - val_f1_m: 0.5031 - val_precision_m: 0.6718 - val_recall_m: 0.4051\n",
      "Epoch 21/30\n",
      "743/743 [==============================] - 6s 9ms/step - loss: 0.5782 - accuracy: 0.8762 - f1_m: 0.8819 - precision_m: 0.9343 - recall_m: 0.8367 - val_loss: 6.3133 - val_accuracy: 0.4004 - val_f1_m: 0.4789 - val_precision_m: 0.6703 - val_recall_m: 0.3762\n",
      "Epoch 22/30\n",
      "743/743 [==============================] - 6s 8ms/step - loss: 0.5566 - accuracy: 0.8828 - f1_m: 0.8874 - precision_m: 0.9384 - recall_m: 0.8434 - val_loss: 7.4732 - val_accuracy: 0.3870 - val_f1_m: 0.4481 - val_precision_m: 0.5896 - val_recall_m: 0.3643\n",
      "Epoch 23/30\n",
      "743/743 [==============================] - 6s 8ms/step - loss: 0.5224 - accuracy: 0.8864 - f1_m: 0.8918 - precision_m: 0.9386 - recall_m: 0.8508 - val_loss: 7.0366 - val_accuracy: 0.4142 - val_f1_m: 0.4803 - val_precision_m: 0.6026 - val_recall_m: 0.4015\n",
      "Epoch 24/30\n",
      "743/743 [==============================] - 6s 8ms/step - loss: 0.4960 - accuracy: 0.8928 - f1_m: 0.8968 - precision_m: 0.9392 - recall_m: 0.8593 - val_loss: 6.6435 - val_accuracy: 0.4254 - val_f1_m: 0.5011 - val_precision_m: 0.6469 - val_recall_m: 0.4117\n",
      "Epoch 25/30\n",
      "743/743 [==============================] - 6s 9ms/step - loss: 0.4833 - accuracy: 0.8974 - f1_m: 0.9022 - precision_m: 0.9446 - recall_m: 0.8647 - val_loss: 6.9000 - val_accuracy: 0.4056 - val_f1_m: 0.4825 - val_precision_m: 0.6314 - val_recall_m: 0.3930\n",
      "Epoch 26/30\n",
      "743/743 [==============================] - 7s 9ms/step - loss: 0.4723 - accuracy: 0.9021 - f1_m: 0.9063 - precision_m: 0.9467 - recall_m: 0.8705 - val_loss: 6.4543 - val_accuracy: 0.4068 - val_f1_m: 0.4911 - val_precision_m: 0.6627 - val_recall_m: 0.3925\n",
      "Epoch 27/30\n",
      "743/743 [==============================] - 6s 8ms/step - loss: 0.4401 - accuracy: 0.9052 - f1_m: 0.9097 - precision_m: 0.9481 - recall_m: 0.8755 - val_loss: 6.4997 - val_accuracy: 0.4163 - val_f1_m: 0.4980 - val_precision_m: 0.6589 - val_recall_m: 0.4032\n",
      "Epoch 28/30\n",
      "743/743 [==============================] - 6s 9ms/step - loss: 0.4171 - accuracy: 0.9122 - f1_m: 0.9153 - precision_m: 0.9503 - recall_m: 0.8839 - val_loss: 6.6892 - val_accuracy: 0.4192 - val_f1_m: 0.4953 - val_precision_m: 0.6494 - val_recall_m: 0.4034\n",
      "Epoch 29/30\n",
      "743/743 [==============================] - 6s 8ms/step - loss: 0.4153 - accuracy: 0.9117 - f1_m: 0.9161 - precision_m: 0.9505 - recall_m: 0.8852 - val_loss: 6.6682 - val_accuracy: 0.4221 - val_f1_m: 0.4986 - val_precision_m: 0.6377 - val_recall_m: 0.4117\n",
      "Epoch 30/30\n",
      "743/743 [==============================] - 6s 8ms/step - loss: 0.3768 - accuracy: 0.9183 - f1_m: 0.9229 - precision_m: 0.9546 - recall_m: 0.8942 - val_loss: 6.5420 - val_accuracy: 0.4216 - val_f1_m: 0.5053 - val_precision_m: 0.6655 - val_recall_m: 0.4096\n"
     ]
    }
   ],
   "source": [
    "# при такой архитектуре лучшее качество на тестовой выборке f1=0.5087 за 17 эпох для обучения\n",
    "history3 = image_light.fit(train_images, train_labels, batch_size=32, epochs=30, validation_split=0.15)"
   ]
  },
  {
   "cell_type": "code",
   "execution_count": 33,
   "metadata": {
    "colab": {
     "base_uri": "https://localhost:8080/",
     "height": 265
    },
    "id": "L4vPyK3aiXUQ",
    "outputId": "d8855eaa-6197-4eff-e9cf-31fea0db743f"
   },
   "outputs": [
    {
     "data": {
      "image/png": "[encoded data removed]",
      "text/plain": [
       "<Figure size 432x288 with 1 Axes>"
      ]
     },
     "metadata": {
      "needs_background": "light"
     },
     "output_type": "display_data"
    }
   ],
   "source": [
    "plt.plot(history3.history['f1_m'], label='train')\n",
    "plt.plot(history3.history['val_f1_m'], label='test')\n",
    "plt.legend()\n",
    "plt.show()"
   ]
  },
  {
   "cell_type": "code",
   "execution_count": 12,
   "metadata": {
    "id": "pa--OJqIiXeL"
   },
   "outputs": [],
   "source": [
    "# попробуем очень простую модель с одной свёрткой\n",
    "simple_model = Sequential() \n",
    "\n",
    "simple_model.add(ZeroPadding2D(padding=1)) # обрамим картинку 64x64 нулями, получим 66x66\n",
    "simple_model.add(Conv2D(8, (7, 7), input_shape=input_shape)) # получим 60х60\n",
    "simple_model.add(Activation('relu'))\n",
    "simple_model.add(MaxPooling2D(pool_size=(3, 3), strides=(2,2))) #получим 21х21\n",
    "\n",
    "simple_model.add(Flatten())\n",
    "simple_model.add(Dense(2400))\n",
    "simple_model.add(Activation('relu'))\n",
    "simple_model.add(Dropout(0.25))\n",
    "\n",
    "simple_model.add(Dense(874)) # число классов\n",
    "simple_model.add(Activation('softmax'))"
   ]
  },
  {
   "cell_type": "code",
   "execution_count": 16,
   "metadata": {
    "id": "zdApw7zNkXW1"
   },
   "outputs": [],
   "source": [
    "simple_model.compile(loss=\"categorical_crossentropy\", \n",
    "                  optimizer=\"rmsprop\", \n",
    "                  metrics=['accuracy', f1_m, precision_m, recall_m])"
   ]
  },
  {
   "cell_type": "code",
   "execution_count": 17,
   "metadata": {
    "colab": {
     "base_uri": "https://localhost:8080/"
    },
    "id": "4syNpwoLjdWX",
    "outputId": "bbd75ae6-c474-4243-86a3-d7e1d59eeac5"
   },
   "outputs": [
    {
     "name": "stdout",
     "output_type": "stream",
     "text": [
      "Epoch 1/12\n",
      "743/743 [==============================] - 26s 17ms/step - loss: 5.9866 - accuracy: 0.1033 - f1_m: 0.0695 - precision_m: 0.5037 - recall_m: 0.0383 - val_loss: 5.1691 - val_accuracy: 0.1988 - val_f1_m: 0.1861 - val_precision_m: 0.8498 - val_recall_m: 0.1068\n",
      "Epoch 2/12\n",
      "743/743 [==============================] - 7s 9ms/step - loss: 4.1227 - accuracy: 0.3245 - f1_m: 0.3334 - precision_m: 0.8585 - recall_m: 0.2114 - val_loss: 4.4725 - val_accuracy: 0.3208 - val_f1_m: 0.3597 - val_precision_m: 0.8880 - val_recall_m: 0.2289\n",
      "Epoch 3/12\n",
      "743/743 [==============================] - 7s 9ms/step - loss: 2.7145 - accuracy: 0.5042 - f1_m: 0.5391 - precision_m: 0.8809 - recall_m: 0.3939 - val_loss: 4.4519 - val_accuracy: 0.3792 - val_f1_m: 0.4561 - val_precision_m: 0.8088 - val_recall_m: 0.3220\n",
      "Epoch 4/12\n",
      "743/743 [==============================] - 6s 9ms/step - loss: 1.6652 - accuracy: 0.6729 - f1_m: 0.7019 - precision_m: 0.9093 - recall_m: 0.5762 - val_loss: 4.9237 - val_accuracy: 0.3925 - val_f1_m: 0.4801 - val_precision_m: 0.7391 - val_recall_m: 0.3594\n",
      "Epoch 5/12\n",
      "743/743 [==============================] - 7s 9ms/step - loss: 1.1139 - accuracy: 0.7765 - f1_m: 0.8017 - precision_m: 0.9333 - recall_m: 0.7057 - val_loss: 5.4846 - val_accuracy: 0.4063 - val_f1_m: 0.4976 - val_precision_m: 0.7135 - val_recall_m: 0.3859\n",
      "Epoch 6/12\n",
      "743/743 [==============================] - 6s 9ms/step - loss: 0.8433 - accuracy: 0.8308 - f1_m: 0.8501 - precision_m: 0.9475 - recall_m: 0.7738 - val_loss: 5.8482 - val_accuracy: 0.4109 - val_f1_m: 0.4972 - val_precision_m: 0.6836 - val_recall_m: 0.3942\n",
      "Epoch 7/12\n",
      "743/743 [==============================] - 7s 9ms/step - loss: 0.6902 - accuracy: 0.8626 - f1_m: 0.8789 - precision_m: 0.9541 - recall_m: 0.8168 - val_loss: 6.2794 - val_accuracy: 0.4106 - val_f1_m: 0.4910 - val_precision_m: 0.6582 - val_recall_m: 0.3949\n",
      "Epoch 8/12\n",
      "743/743 [==============================] - 6s 9ms/step - loss: 0.5916 - accuracy: 0.8822 - f1_m: 0.8990 - precision_m: 0.9611 - recall_m: 0.8464 - val_loss: 7.0524 - val_accuracy: 0.4099 - val_f1_m: 0.4678 - val_precision_m: 0.5710 - val_recall_m: 0.3991\n",
      "Epoch 9/12\n",
      "743/743 [==============================] - 7s 9ms/step - loss: 0.5224 - accuracy: 0.8969 - f1_m: 0.9108 - precision_m: 0.9637 - recall_m: 0.8650 - val_loss: 6.6924 - val_accuracy: 0.4168 - val_f1_m: 0.4987 - val_precision_m: 0.6606 - val_recall_m: 0.4041\n",
      "Epoch 10/12\n",
      "743/743 [==============================] - 6s 8ms/step - loss: 0.4579 - accuracy: 0.9109 - f1_m: 0.9220 - precision_m: 0.9676 - recall_m: 0.8818 - val_loss: 7.4664 - val_accuracy: 0.4168 - val_f1_m: 0.4806 - val_precision_m: 0.5889 - val_recall_m: 0.4081\n",
      "Epoch 11/12\n",
      "743/743 [==============================] - 7s 9ms/step - loss: 0.4279 - accuracy: 0.9191 - f1_m: 0.9297 - precision_m: 0.9690 - recall_m: 0.8948 - val_loss: 7.5660 - val_accuracy: 0.4285 - val_f1_m: 0.4910 - val_precision_m: 0.5981 - val_recall_m: 0.4190\n",
      "Epoch 12/12\n",
      "743/743 [==============================] - 6s 9ms/step - loss: 0.3796 - accuracy: 0.9258 - f1_m: 0.9357 - precision_m: 0.9711 - recall_m: 0.9038 - val_loss: 7.6077 - val_accuracy: 0.4264 - val_f1_m: 0.4900 - val_precision_m: 0.5980 - val_recall_m: 0.4176\n"
     ]
    }
   ],
   "source": [
    "# при такой архитектуре лучшее качество на тестовой выборке f1=0.4976 за 5 эпох для обучения\n",
    "history4 = simple_model.fit(train_images, train_labels, batch_size=32, epochs=12, validation_split=0.15)"
   ]
  },
  {
   "cell_type": "code",
   "execution_count": 18,
   "metadata": {
    "colab": {
     "base_uri": "https://localhost:8080/",
     "height": 265
    },
    "id": "22liD_fajdZo",
    "outputId": "cffbe46a-097a-4f3a-e149-5f35512e9d09"
   },
   "outputs": [
    {
     "data": {
      "image/png": "[encoded data removed]",
      "text/plain": [
       "<Figure size 432x288 with 1 Axes>"
      ]
     },
     "metadata": {
      "needs_background": "light"
     },
     "output_type": "display_data"
    }
   ],
   "source": [
    "plt.plot(history4.history['f1_m'], label='train')\n",
    "plt.plot(history4.history['val_f1_m'], label='test')\n",
    "plt.legend()\n",
    "plt.show()"
   ]
  },
  {
   "cell_type": "code",
   "execution_count": null,
   "metadata": {
    "id": "udev0kLsjddO"
   },
   "outputs": [],
   "source": []
  },
  {
   "cell_type": "code",
   "execution_count": null,
   "metadata": {
    "id": "WfWyWFgEjdgk"
   },
   "outputs": [],
   "source": []
  },
  {
   "cell_type": "code",
   "execution_count": 19,
   "metadata": {
    "id": "hWOq6a4xqlfk"
   },
   "outputs": [],
   "source": [
    "import torch\n",
    "import torch.nn as nn\n",
    "import torch.nn.functional as F\n",
    "import torch.optim as optim"
   ]
  },
  {
   "cell_type": "code",
   "execution_count": 20,
   "metadata": {
    "id": "OFmzBtNSql7D"
   },
   "outputs": [],
   "source": [
    "class MyNet(nn.Module):\n",
    "  def __init__(self):\n",
    "    super(MyNet, self).__init__()\n",
    "\n",
    "    self.pad = nn.ZeroPad2d(1) # обрамим картинку 64x64 нулями, получим 66x66\n",
    "\n",
    "    # 3 канала rgb, 6 выхдных канала, 5x5 свёртка\n",
    "    self.conv1 = nn.Conv2d(3, 6, 5) # получим 62х62\n",
    "\n",
    "    self.pool1 = nn.MaxPool2d(kernel_size=2, stride = 1) # сделаем пулинг, получим картинку 61x61\n",
    "\n",
    "    self.conv2 = nn.Conv2d(6, 16, 5) # получим 57х57\n",
    "    \n",
    "    self.pool2 = nn.MaxPool2d(kernel_size=3, stride = 2) # сделаем пулинг с ядром 3 и шагом 2, получим картинку 20x20\n",
    "\n",
    "    self.fc1 = nn.Linear(16 * 20 * 20, 3200)# 20x20 размерность полученной картинки\n",
    "    self.d1 = nn.Dropout(p=0.15)\n",
    "    self.fc2 = nn.Linear(3200, 1600)\n",
    "    self.d2 = nn.Dropout(p=0.1)\n",
    "    self.fc3 = nn.Linear(1600, 874)\n",
    "\n",
    "\n",
    "  def forward(self, x):\n",
    "\n",
    "    # Первый слой\n",
    "    x = self.pad(x)\n",
    "    x = F.relu(self.conv1(x))\n",
    "    x = self.pool1(x)\n",
    "\n",
    "    # Второй слой\n",
    "    x = F.relu(self.conv2(x))\n",
    "    x = self.pool2(x)\n",
    "\n",
    "    # Третий слой\n",
    "    x = x.view(-1, 16 * 20 * 20)\n",
    "\n",
    "    x = F.relu(self.fc1(x))\n",
    "    x = self.d1(x)\n",
    "\n",
    "    x = F.relu(self.fc2(x))\n",
    "    x = self.d2(x)\n",
    "\n",
    "    x = F.softmax(self.fc3(x))\n",
    "\n",
    "    return x"
   ]
  },
  {
   "cell_type": "code",
   "execution_count": 21,
   "metadata": {
    "id": "qKMgTYP3ql82"
   },
   "outputs": [],
   "source": [
    "image_model_torch = MyNet()"
   ]
  },
  {
   "cell_type": "code",
   "execution_count": 22,
   "metadata": {
    "id": "23Tdr69i1JZx"
   },
   "outputs": [],
   "source": [
    "criterion = nn.CrossEntropyLoss()\n",
    "optimizer = optim.RMSprop(image_model_torch.parameters(), lr=0.001)"
   ]
  },
  {
   "cell_type": "code",
   "execution_count": null,
   "metadata": {
    "id": "qsO2tI2g1Jb1"
   },
   "outputs": [],
   "source": []
  }
 ],
 "metadata": {
  "accelerator": "GPU",
  "colab": {
   "provenance": []
  },
  "gpuClass": "standard",
  "kernelspec": {
   "display_name": "Python 3 (ipykernel)",
   "language": "python",
   "name": "python3"
  },
  "language_info": {
   "codemirror_mode": {
    "name": "ipython",
    "version": 3
   },
   "file_extension": ".py",
   "mimetype": "text/x-python",
   "name": "python",
   "nbconvert_exporter": "python",
   "pygments_lexer": "ipython3",
   "version": "3.8.10"
  }
 },
 "nbformat": 4,
 "nbformat_minor": 1
}
