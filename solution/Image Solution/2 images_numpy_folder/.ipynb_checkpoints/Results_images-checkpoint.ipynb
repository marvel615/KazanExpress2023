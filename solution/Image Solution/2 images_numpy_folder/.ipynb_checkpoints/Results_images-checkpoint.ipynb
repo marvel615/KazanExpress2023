{
 "cells": [
  {
   "cell_type": "code",
   "execution_count": 1,
   "id": "6583b4a0",
   "metadata": {},
   "outputs": [],
   "source": [
    "import numpy as np\n",
    "import pandas as pd"
   ]
  },
  {
   "cell_type": "markdown",
   "id": "fda26854",
   "metadata": {},
   "source": [
    "Для формирования ответа нам понадобятся описательные csv-файлы train_desc_images и test_desc_images, которые были получены в \"1 images_folder\". А также предсказанные метки для тестовых картинок (preds_images.npy)"
   ]
  },
  {
   "cell_type": "code",
   "execution_count": 2,
   "id": "2eaa7f30",
   "metadata": {},
   "outputs": [],
   "source": [
    "train_desc_images = pd.read_csv('train_desc_images.csv', sep='\\t', index_col=0)"
   ]
  },
  {
   "cell_type": "code",
   "execution_count": 3,
   "id": "044e6c37",
   "metadata": {},
   "outputs": [
    {
     "data": {
      "text/html": [
       "<div>\n",
       "<style scoped>\n",
       "    .dataframe tbody tr th:only-of-type {\n",
       "        vertical-align: middle;\n",
       "    }\n",
       "\n",
       "    .dataframe tbody tr th {\n",
       "        vertical-align: top;\n",
       "    }\n",
       "\n",
       "    .dataframe thead th {\n",
       "        text-align: right;\n",
       "    }\n",
       "</style>\n",
       "<table border=\"1\" class=\"dataframe\">\n",
       "  <thead>\n",
       "    <tr style=\"text-align: right;\">\n",
       "      <th></th>\n",
       "      <th>product_id</th>\n",
       "      <th>category_id</th>\n",
       "      <th>image</th>\n",
       "      <th>cats_id</th>\n",
       "      <th>labels</th>\n",
       "    </tr>\n",
       "  </thead>\n",
       "  <tbody>\n",
       "    <tr>\n",
       "      <th>0</th>\n",
       "      <td>321012</td>\n",
       "      <td>11937</td>\n",
       "      <td>321012.jpg</td>\n",
       "      <td>11937</td>\n",
       "      <td>197</td>\n",
       "    </tr>\n",
       "    <tr>\n",
       "      <th>1</th>\n",
       "      <td>420744</td>\n",
       "      <td>11937</td>\n",
       "      <td>420744.jpg</td>\n",
       "      <td>11937</td>\n",
       "      <td>197</td>\n",
       "    </tr>\n",
       "    <tr>\n",
       "      <th>2</th>\n",
       "      <td>1183152</td>\n",
       "      <td>11937</td>\n",
       "      <td>1183152.jpg</td>\n",
       "      <td>11937</td>\n",
       "      <td>197</td>\n",
       "    </tr>\n",
       "    <tr>\n",
       "      <th>3</th>\n",
       "      <td>114833</td>\n",
       "      <td>11937</td>\n",
       "      <td>114833.jpg</td>\n",
       "      <td>11937</td>\n",
       "      <td>197</td>\n",
       "    </tr>\n",
       "    <tr>\n",
       "      <th>4</th>\n",
       "      <td>812016</td>\n",
       "      <td>11937</td>\n",
       "      <td>812016.jpg</td>\n",
       "      <td>11937</td>\n",
       "      <td>197</td>\n",
       "    </tr>\n",
       "  </tbody>\n",
       "</table>\n",
       "</div>"
      ],
      "text/plain": [
       "   product_id  category_id        image  cats_id  labels\n",
       "0      321012        11937   321012.jpg    11937     197\n",
       "1      420744        11937   420744.jpg    11937     197\n",
       "2     1183152        11937  1183152.jpg    11937     197\n",
       "3      114833        11937   114833.jpg    11937     197\n",
       "4      812016        11937   812016.jpg    11937     197"
      ]
     },
     "execution_count": 3,
     "metadata": {},
     "output_type": "execute_result"
    }
   ],
   "source": [
    "train_desc_images.head()"
   ]
  },
  {
   "cell_type": "code",
   "execution_count": 4,
   "id": "c3790760",
   "metadata": {},
   "outputs": [
    {
     "data": {
      "text/plain": [
       "874"
      ]
     },
     "execution_count": 4,
     "metadata": {},
     "output_type": "execute_result"
    }
   ],
   "source": [
    "# 874 категории \n",
    "len(set(train_desc_images['labels'].values))"
   ]
  },
  {
   "cell_type": "code",
   "execution_count": 5,
   "id": "19dcdeec",
   "metadata": {},
   "outputs": [],
   "source": [
    "for_group = train_desc_images[['category_id', 'labels']]"
   ]
  },
  {
   "cell_type": "code",
   "execution_count": 6,
   "id": "a8b677f3",
   "metadata": {},
   "outputs": [],
   "source": [
    "grouped = for_group.groupby('labels')"
   ]
  },
  {
   "cell_type": "code",
   "execution_count": 7,
   "id": "64374e99",
   "metadata": {},
   "outputs": [],
   "source": [
    "cats_labels = grouped.first() # получили категории товаров по лейблу"
   ]
  },
  {
   "cell_type": "code",
   "execution_count": 8,
   "id": "077c5a9c",
   "metadata": {},
   "outputs": [
    {
     "data": {
      "text/html": [
       "<div>\n",
       "<style scoped>\n",
       "    .dataframe tbody tr th:only-of-type {\n",
       "        vertical-align: middle;\n",
       "    }\n",
       "\n",
       "    .dataframe tbody tr th {\n",
       "        vertical-align: top;\n",
       "    }\n",
       "\n",
       "    .dataframe thead th {\n",
       "        text-align: right;\n",
       "    }\n",
       "</style>\n",
       "<table border=\"1\" class=\"dataframe\">\n",
       "  <thead>\n",
       "    <tr style=\"text-align: right;\">\n",
       "      <th></th>\n",
       "      <th>category_id</th>\n",
       "    </tr>\n",
       "    <tr>\n",
       "      <th>labels</th>\n",
       "      <th></th>\n",
       "    </tr>\n",
       "  </thead>\n",
       "  <tbody>\n",
       "    <tr>\n",
       "      <th>0</th>\n",
       "      <td>2599</td>\n",
       "    </tr>\n",
       "    <tr>\n",
       "      <th>1</th>\n",
       "      <td>2600</td>\n",
       "    </tr>\n",
       "    <tr>\n",
       "      <th>2</th>\n",
       "      <td>2601</td>\n",
       "    </tr>\n",
       "    <tr>\n",
       "      <th>3</th>\n",
       "      <td>2602</td>\n",
       "    </tr>\n",
       "    <tr>\n",
       "      <th>4</th>\n",
       "      <td>2605</td>\n",
       "    </tr>\n",
       "  </tbody>\n",
       "</table>\n",
       "</div>"
      ],
      "text/plain": [
       "        category_id\n",
       "labels             \n",
       "0              2599\n",
       "1              2600\n",
       "2              2601\n",
       "3              2602\n",
       "4              2605"
      ]
     },
     "execution_count": 8,
     "metadata": {},
     "output_type": "execute_result"
    }
   ],
   "source": [
    "cats_labels.head()"
   ]
  },
  {
   "cell_type": "code",
   "execution_count": null,
   "id": "ec5f466f",
   "metadata": {},
   "outputs": [],
   "source": []
  },
  {
   "cell_type": "code",
   "execution_count": 9,
   "id": "b8ba7c79",
   "metadata": {},
   "outputs": [],
   "source": [
    "preds_images = np.load('preds_images.npy')"
   ]
  },
  {
   "cell_type": "code",
   "execution_count": 10,
   "id": "35de58a0",
   "metadata": {},
   "outputs": [],
   "source": [
    "preds_images_labels = [] # ответ по размеченному лэйблу\n",
    "preds_images_cats = [] # ответ по категории товара\n",
    "for i in range(len(preds_images)):\n",
    "    label = np.argmax(preds_images[i])\n",
    "    cat = cats_labels['category_id'][label]\n",
    "    \n",
    "    preds_images_labels.append(label)\n",
    "    preds_images_cats.append(cat)"
   ]
  },
  {
   "cell_type": "code",
   "execution_count": null,
   "id": "3d918818",
   "metadata": {},
   "outputs": [],
   "source": []
  },
  {
   "cell_type": "code",
   "execution_count": 13,
   "id": "7788fd02",
   "metadata": {},
   "outputs": [],
   "source": [
    "test_desc_images = pd.read_csv('test_desc_images.csv', sep='\\t', index_col=0)"
   ]
  },
  {
   "cell_type": "code",
   "execution_count": 15,
   "id": "d611fd03",
   "metadata": {},
   "outputs": [],
   "source": [
    "test_desc_images['predicted_category_id'] = preds_images_cats"
   ]
  },
  {
   "cell_type": "code",
   "execution_count": 17,
   "id": "e5025334",
   "metadata": {},
   "outputs": [],
   "source": [
    "results = test_desc_images[['product_id', 'predicted_category_id']]"
   ]
  },
  {
   "cell_type": "code",
   "execution_count": 19,
   "id": "a002b462",
   "metadata": {},
   "outputs": [
    {
     "data": {
      "text/html": [
       "<div>\n",
       "<style scoped>\n",
       "    .dataframe tbody tr th:only-of-type {\n",
       "        vertical-align: middle;\n",
       "    }\n",
       "\n",
       "    .dataframe tbody tr th {\n",
       "        vertical-align: top;\n",
       "    }\n",
       "\n",
       "    .dataframe thead th {\n",
       "        text-align: right;\n",
       "    }\n",
       "</style>\n",
       "<table border=\"1\" class=\"dataframe\">\n",
       "  <thead>\n",
       "    <tr style=\"text-align: right;\">\n",
       "      <th></th>\n",
       "      <th>product_id</th>\n",
       "      <th>predicted_category_id</th>\n",
       "    </tr>\n",
       "  </thead>\n",
       "  <tbody>\n",
       "    <tr>\n",
       "      <th>24987</th>\n",
       "      <td>1914264</td>\n",
       "      <td>13956</td>\n",
       "    </tr>\n",
       "    <tr>\n",
       "      <th>24988</th>\n",
       "      <td>1310569</td>\n",
       "      <td>14683</td>\n",
       "    </tr>\n",
       "    <tr>\n",
       "      <th>24989</th>\n",
       "      <td>978095</td>\n",
       "      <td>14000</td>\n",
       "    </tr>\n",
       "    <tr>\n",
       "      <th>24992</th>\n",
       "      <td>797547</td>\n",
       "      <td>2737</td>\n",
       "    </tr>\n",
       "    <tr>\n",
       "      <th>24995</th>\n",
       "      <td>703835</td>\n",
       "      <td>14687</td>\n",
       "    </tr>\n",
       "  </tbody>\n",
       "</table>\n",
       "</div>"
      ],
      "text/plain": [
       "       product_id  predicted_category_id\n",
       "24987     1914264                  13956\n",
       "24988     1310569                  14683\n",
       "24989      978095                  14000\n",
       "24992      797547                   2737\n",
       "24995      703835                  14687"
      ]
     },
     "execution_count": 19,
     "metadata": {},
     "output_type": "execute_result"
    }
   ],
   "source": [
    "results.tail()"
   ]
  },
  {
   "cell_type": "code",
   "execution_count": 21,
   "id": "945c3156",
   "metadata": {},
   "outputs": [],
   "source": [
    "# Сохраняем ответ полученный из картинок\n",
    "results.to_parquet('resultimages.parquet')"
   ]
  }
 ],
 "metadata": {
  "kernelspec": {
   "display_name": "Python 3 (ipykernel)",
   "language": "python",
   "name": "python3"
  },
  "language_info": {
   "codemirror_mode": {
    "name": "ipython",
    "version": 3
   },
   "file_extension": ".py",
   "mimetype": "text/x-python",
   "name": "python",
   "nbconvert_exporter": "python",
   "pygments_lexer": "ipython3",
   "version": "3.8.10"
  }
 },
 "nbformat": 4,
 "nbformat_minor": 5
}
