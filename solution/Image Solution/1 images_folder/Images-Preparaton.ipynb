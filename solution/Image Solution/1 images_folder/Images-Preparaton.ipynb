{
 "cells": [
  {
   "cell_type": "code",
   "execution_count": 1,
   "metadata": {
    "id": "A2nkVevDDDVF"
   },
   "outputs": [],
   "source": [
    "import os\n",
    "import sys"
   ]
  },
  {
   "cell_type": "code",
   "execution_count": 2,
   "metadata": {
    "id": "BO0M9G9SDG-L"
   },
   "outputs": [],
   "source": [
    "import numpy as np\n",
    "import pandas as pd\n",
    "import matplotlib.pyplot as plt"
   ]
  },
  {
   "cell_type": "code",
   "execution_count": 3,
   "metadata": {},
   "outputs": [],
   "source": [
    "import cv2\n",
    "from tqdm import tqdm"
   ]
  },
  {
   "cell_type": "markdown",
   "metadata": {},
   "source": [
    "Не забудьте положить описательные csv файлы (train_images и test_images) в папку с этим .ipynb-файлом"
   ]
  },
  {
   "cell_type": "code",
   "execution_count": 4,
   "metadata": {},
   "outputs": [],
   "source": [
    "path_folder = os.getcwd()"
   ]
  },
  {
   "cell_type": "code",
   "execution_count": 5,
   "metadata": {},
   "outputs": [],
   "source": [
    "path_folder_images = os.path.join(path_folder, 'images')"
   ]
  },
  {
   "cell_type": "code",
   "execution_count": 6,
   "metadata": {
    "id": "mrwGygzgYxmU"
   },
   "outputs": [],
   "source": [
    "train_data_dir = os.path.join(path_folder_images, 'train')"
   ]
  },
  {
   "cell_type": "code",
   "execution_count": 10,
   "metadata": {
    "id": "3u5kAHrYXr1U"
   },
   "outputs": [],
   "source": [
    "train_cats = pd.read_csv('train_images.csv', sep='\\t', index_col=0)"
   ]
  },
  {
   "cell_type": "markdown",
   "metadata": {},
   "source": [
    "Будем делать сбалансированную выборку по 32 (размер батча) картинки в каждой категории\n"
   ]
  },
  {
   "cell_type": "code",
   "execution_count": 15,
   "metadata": {},
   "outputs": [],
   "source": [
    "#UnderSampling\n",
    "def under_sample(df, n_sample):\n",
    "    desc_cats = df['category_id'].value_counts().to_frame()\n",
    "    desc_cats = desc_cats[desc_cats['category_id']>n_sample]\n",
    "    \n",
    "    ids_for_undersample = desc_cats.index\n",
    "    \n",
    "    under_sample_idxs = []\n",
    "    for idx in ids_for_undersample:\n",
    "        indices_current_cat = df[df['category_id']==idx].index\n",
    "        random_indices = np.random.choice(indices_current_cat, n_sample, replace=False)\n",
    "        \n",
    "        under_sample_idxs.append(list(random_indices))\n",
    "    \n",
    "    return_ix = np.array(under_sample_idxs).reshape(1, -1)[0]\n",
    "    return df.loc[return_ix]"
   ]
  },
  {
   "cell_type": "code",
   "execution_count": 16,
   "metadata": {},
   "outputs": [],
   "source": [
    "train_cats_under = under_sample(train_cats, 32)"
   ]
  },
  {
   "cell_type": "code",
   "execution_count": 24,
   "metadata": {},
   "outputs": [
    {
     "data": {
      "text/plain": [
       "count    471.0\n",
       "mean      32.0\n",
       "std        0.0\n",
       "min       32.0\n",
       "25%       32.0\n",
       "50%       32.0\n",
       "75%       32.0\n",
       "max       32.0\n",
       "Name: category_id, dtype: float64"
      ]
     },
     "execution_count": 24,
     "metadata": {},
     "output_type": "execute_result"
    }
   ],
   "source": [
    "train_cats_under['category_id'].value_counts().describe()"
   ]
  },
  {
   "cell_type": "code",
   "execution_count": 18,
   "metadata": {},
   "outputs": [],
   "source": [
    "#Prepare for OverSampling\n",
    "def prepare_over_sample(df, n_sample):\n",
    "    desc_cats = df['category_id'].value_counts().to_frame()\n",
    "    desc_cats = desc_cats[desc_cats['category_id']<=n_sample]\n",
    "    \n",
    "    ids_for_oversample = desc_cats.index\n",
    "    \n",
    "    pre_over_sample_idxs = []\n",
    "    for idx in ids_for_oversample:\n",
    "        indices_current_cat = df[df['category_id']==idx].index\n",
    "        \n",
    "        pre_over_sample_idxs.append(list(indices_current_cat))\n",
    "    \n",
    "    return_ix = np.array([a for b in pre_over_sample_idxs for a in b])\n",
    "    return df.loc[return_ix]"
   ]
  },
  {
   "cell_type": "code",
   "execution_count": 19,
   "metadata": {},
   "outputs": [],
   "source": [
    "train_cats_for_over = prepare_over_sample(train_cats, 32)"
   ]
  },
  {
   "cell_type": "code",
   "execution_count": 20,
   "metadata": {},
   "outputs": [],
   "source": [
    "def bootstrap_oversample(df, n_samples):\n",
    "    cats = np.unique(df['category_id'].values)\n",
    "    \n",
    "    samples = []\n",
    "    \n",
    "    for cat in cats:\n",
    "        current_group = df[df['category_id']==cat]\n",
    "        for i in range(n_samples):\n",
    "            sample = current_group.sample()\n",
    "            samples.append(list(sample.values[0]))\n",
    "            \n",
    "    df_new = pd.DataFrame(samples)\n",
    "    \n",
    "    \n",
    "    return df_new.rename(columns = {0:'product_id', 1:'category_id'})"
   ]
  },
  {
   "cell_type": "code",
   "execution_count": 21,
   "metadata": {},
   "outputs": [],
   "source": [
    "train_cats_oversampled = bootstrap_oversample(train_cats_for_over, 32)"
   ]
  },
  {
   "cell_type": "code",
   "execution_count": 23,
   "metadata": {},
   "outputs": [
    {
     "data": {
      "text/plain": [
       "count    403.0\n",
       "mean      32.0\n",
       "std        0.0\n",
       "min       32.0\n",
       "25%       32.0\n",
       "50%       32.0\n",
       "75%       32.0\n",
       "max       32.0\n",
       "Name: category_id, dtype: float64"
      ]
     },
     "execution_count": 23,
     "metadata": {},
     "output_type": "execute_result"
    }
   ],
   "source": [
    "train_cats_oversampled['category_id'].value_counts().describe()"
   ]
  },
  {
   "cell_type": "code",
   "execution_count": 25,
   "metadata": {},
   "outputs": [
    {
     "name": "stderr",
     "output_type": "stream",
     "text": [
      "/tmp/ipykernel_151/3322475770.py:1: FutureWarning: The frame.append method is deprecated and will be removed from pandas in a future version. Use pandas.concat instead.\n",
      "  train_cats = train_cats_under.append(train_cats_oversampled, ignore_index=True)\n"
     ]
    }
   ],
   "source": [
    "train_cats = train_cats_under.append(train_cats_oversampled, ignore_index=True)"
   ]
  },
  {
   "cell_type": "code",
   "execution_count": 27,
   "metadata": {},
   "outputs": [
    {
     "data": {
      "text/html": [
       "<div>\n",
       "<style scoped>\n",
       "    .dataframe tbody tr th:only-of-type {\n",
       "        vertical-align: middle;\n",
       "    }\n",
       "\n",
       "    .dataframe tbody tr th {\n",
       "        vertical-align: top;\n",
       "    }\n",
       "\n",
       "    .dataframe thead th {\n",
       "        text-align: right;\n",
       "    }\n",
       "</style>\n",
       "<table border=\"1\" class=\"dataframe\">\n",
       "  <thead>\n",
       "    <tr style=\"text-align: right;\">\n",
       "      <th></th>\n",
       "      <th>product_id</th>\n",
       "      <th>category_id</th>\n",
       "    </tr>\n",
       "  </thead>\n",
       "  <tbody>\n",
       "    <tr>\n",
       "      <th>27963</th>\n",
       "      <td>1599349</td>\n",
       "      <td>15075</td>\n",
       "    </tr>\n",
       "    <tr>\n",
       "      <th>27964</th>\n",
       "      <td>1609848</td>\n",
       "      <td>15075</td>\n",
       "    </tr>\n",
       "    <tr>\n",
       "      <th>27965</th>\n",
       "      <td>613538</td>\n",
       "      <td>15075</td>\n",
       "    </tr>\n",
       "    <tr>\n",
       "      <th>27966</th>\n",
       "      <td>1283165</td>\n",
       "      <td>15075</td>\n",
       "    </tr>\n",
       "    <tr>\n",
       "      <th>27967</th>\n",
       "      <td>1926450</td>\n",
       "      <td>15075</td>\n",
       "    </tr>\n",
       "  </tbody>\n",
       "</table>\n",
       "</div>"
      ],
      "text/plain": [
       "       product_id  category_id\n",
       "27963     1599349        15075\n",
       "27964     1609848        15075\n",
       "27965      613538        15075\n",
       "27966     1283165        15075\n",
       "27967     1926450        15075"
      ]
     },
     "execution_count": 27,
     "metadata": {},
     "output_type": "execute_result"
    }
   ],
   "source": [
    "train_cats.tail()"
   ]
  },
  {
   "cell_type": "code",
   "execution_count": 28,
   "metadata": {
    "id": "wSSnVW51kSj0"
   },
   "outputs": [],
   "source": [
    "train_cats['image'] = [(str(x)+'.jpg') for x in train_cats['product_id'].values]"
   ]
  },
  {
   "cell_type": "code",
   "execution_count": 29,
   "metadata": {
    "colab": {
     "base_uri": "https://localhost:8080/",
     "height": 206
    },
    "id": "rBhPrlGxj5t3",
    "outputId": "5e3ee3de-e4a5-4106-d4c0-9f54c6471c89"
   },
   "outputs": [
    {
     "data": {
      "text/html": [
       "<div>\n",
       "<style scoped>\n",
       "    .dataframe tbody tr th:only-of-type {\n",
       "        vertical-align: middle;\n",
       "    }\n",
       "\n",
       "    .dataframe tbody tr th {\n",
       "        vertical-align: top;\n",
       "    }\n",
       "\n",
       "    .dataframe thead th {\n",
       "        text-align: right;\n",
       "    }\n",
       "</style>\n",
       "<table border=\"1\" class=\"dataframe\">\n",
       "  <thead>\n",
       "    <tr style=\"text-align: right;\">\n",
       "      <th></th>\n",
       "      <th>product_id</th>\n",
       "      <th>category_id</th>\n",
       "      <th>image</th>\n",
       "    </tr>\n",
       "  </thead>\n",
       "  <tbody>\n",
       "    <tr>\n",
       "      <th>0</th>\n",
       "      <td>321012</td>\n",
       "      <td>11937</td>\n",
       "      <td>321012.jpg</td>\n",
       "    </tr>\n",
       "    <tr>\n",
       "      <th>1</th>\n",
       "      <td>420744</td>\n",
       "      <td>11937</td>\n",
       "      <td>420744.jpg</td>\n",
       "    </tr>\n",
       "    <tr>\n",
       "      <th>2</th>\n",
       "      <td>1183152</td>\n",
       "      <td>11937</td>\n",
       "      <td>1183152.jpg</td>\n",
       "    </tr>\n",
       "    <tr>\n",
       "      <th>3</th>\n",
       "      <td>114833</td>\n",
       "      <td>11937</td>\n",
       "      <td>114833.jpg</td>\n",
       "    </tr>\n",
       "    <tr>\n",
       "      <th>4</th>\n",
       "      <td>812016</td>\n",
       "      <td>11937</td>\n",
       "      <td>812016.jpg</td>\n",
       "    </tr>\n",
       "  </tbody>\n",
       "</table>\n",
       "</div>"
      ],
      "text/plain": [
       "   product_id  category_id        image\n",
       "0      321012        11937   321012.jpg\n",
       "1      420744        11937   420744.jpg\n",
       "2     1183152        11937  1183152.jpg\n",
       "3      114833        11937   114833.jpg\n",
       "4      812016        11937   812016.jpg"
      ]
     },
     "execution_count": 29,
     "metadata": {},
     "output_type": "execute_result"
    }
   ],
   "source": [
    "train_cats.head()"
   ]
  },
  {
   "cell_type": "code",
   "execution_count": 32,
   "metadata": {
    "id": "wfM4utuflZ3u"
   },
   "outputs": [],
   "source": [
    "def create_train(): \n",
    "    train_images=[]              \n",
    "    for img in tqdm(train_cats['image']):       \n",
    "        final_path=os.path.join(train_data_dir, img)     \n",
    "        train_img=cv2.imread(final_path)     \n",
    "        img_arr=cv2.resize(train_img,(64,64)) ## преобразуем картинки (512,512) в (64,64) \n",
    "        train_images.append(img_arr)\n",
    "        \n",
    "    return np.array(train_images, dtype=float)"
   ]
  },
  {
   "cell_type": "code",
   "execution_count": 33,
   "metadata": {
    "colab": {
     "base_uri": "https://localhost:8080/"
    },
    "id": "0ALdlmVplwCL",
    "outputId": "6ed6a33e-a083-4cd5-f424-9128952f472f"
   },
   "outputs": [
    {
     "name": "stderr",
     "output_type": "stream",
     "text": [
      "100%|█████████████████████████████████████████████████████████████████████████████| 27968/27968 [19:53<00:00, 23.44it/s]\n"
     ]
    }
   ],
   "source": [
    "train_images = create_train()"
   ]
  },
  {
   "cell_type": "code",
   "execution_count": 34,
   "metadata": {},
   "outputs": [
    {
     "data": {
      "text/plain": [
       "27968"
      ]
     },
     "execution_count": 34,
     "metadata": {},
     "output_type": "execute_result"
    }
   ],
   "source": [
    "len(train_images)"
   ]
  },
  {
   "cell_type": "code",
   "execution_count": 35,
   "metadata": {},
   "outputs": [
    {
     "data": {
      "text/plain": [
       "array([240., 240., 240.])"
      ]
     },
     "execution_count": 35,
     "metadata": {},
     "output_type": "execute_result"
    }
   ],
   "source": [
    "train_images[0][0][1]"
   ]
  },
  {
   "cell_type": "code",
   "execution_count": 36,
   "metadata": {},
   "outputs": [
    {
     "name": "stderr",
     "output_type": "stream",
     "text": [
      "100%|████████████████████████████████████████████████████████████████████████████| 27968/27968 [00:43<00:00, 643.04it/s]\n"
     ]
    }
   ],
   "source": [
    "# нормализация картинок train\n",
    "b_count = 0\n",
    "for b in tqdm(train_images):\n",
    "    train_images[b_count] = b / 255\n",
    "    b_count += 1"
   ]
  },
  {
   "cell_type": "code",
   "execution_count": 37,
   "metadata": {},
   "outputs": [
    {
     "data": {
      "text/plain": [
       "array([0.94117647, 0.94117647, 0.94117647])"
      ]
     },
     "execution_count": 37,
     "metadata": {},
     "output_type": "execute_result"
    }
   ],
   "source": [
    "train_images[0][0][1]"
   ]
  },
  {
   "cell_type": "code",
   "execution_count": 38,
   "metadata": {
    "id": "GsQS1FzhA7BV"
   },
   "outputs": [],
   "source": [
    "#сохраним загруженные train картинки\n",
    "np.save('train_images_np.npy',train_images)"
   ]
  },
  {
   "cell_type": "code",
   "execution_count": null,
   "metadata": {
    "id": "3iVCjCUt8X56"
   },
   "outputs": [],
   "source": []
  },
  {
   "cell_type": "code",
   "execution_count": 45,
   "metadata": {},
   "outputs": [],
   "source": [
    "train_cats['cats_id']=train_cats['category_id'].astype('category')\n",
    "train_cats['labels']=train_cats['cats_id'].cat.codes"
   ]
  },
  {
   "cell_type": "code",
   "execution_count": 46,
   "metadata": {},
   "outputs": [],
   "source": [
    "train_labels=np.array(train_cats['labels'].values)"
   ]
  },
  {
   "cell_type": "code",
   "execution_count": 47,
   "metadata": {},
   "outputs": [],
   "source": [
    "train_labels = train_labels.reshape(train_labels.shape[0],-1)"
   ]
  },
  {
   "cell_type": "code",
   "execution_count": 48,
   "metadata": {},
   "outputs": [
    {
     "data": {
      "text/plain": [
       "874"
      ]
     },
     "execution_count": 48,
     "metadata": {},
     "output_type": "execute_result"
    }
   ],
   "source": [
    "train_cats['category_id'].nunique() #874 категории"
   ]
  },
  {
   "cell_type": "code",
   "execution_count": 49,
   "metadata": {},
   "outputs": [],
   "source": [
    "train_labels=np.eye(874)[train_labels.reshape(-1)]"
   ]
  },
  {
   "cell_type": "code",
   "execution_count": 50,
   "metadata": {},
   "outputs": [
    {
     "data": {
      "text/plain": [
       "(27968, 874)"
      ]
     },
     "execution_count": 50,
     "metadata": {},
     "output_type": "execute_result"
    }
   ],
   "source": [
    "train_labels.shape"
   ]
  },
  {
   "cell_type": "code",
   "execution_count": 51,
   "metadata": {},
   "outputs": [
    {
     "data": {
      "text/plain": [
       "(27968, 64, 64, 3)"
      ]
     },
     "execution_count": 51,
     "metadata": {},
     "output_type": "execute_result"
    }
   ],
   "source": [
    "train_images.shape"
   ]
  },
  {
   "cell_type": "code",
   "execution_count": 54,
   "metadata": {},
   "outputs": [],
   "source": [
    "#сохраним метки для train\n",
    "np.save('train_labels_np.npy', train_labels)"
   ]
  },
  {
   "cell_type": "code",
   "execution_count": 60,
   "metadata": {},
   "outputs": [],
   "source": [
    "# сохраним csv файл с описанием картинок train\n",
    "train_cats.to_csv('train_desc_images.csv', sep='\\t')"
   ]
  },
  {
   "cell_type": "code",
   "execution_count": null,
   "metadata": {},
   "outputs": [],
   "source": []
  },
  {
   "cell_type": "markdown",
   "metadata": {},
   "source": [
    "Готовим тестовые данные"
   ]
  },
  {
   "cell_type": "code",
   "execution_count": 39,
   "metadata": {},
   "outputs": [],
   "source": [
    "test_data_dir = os.path.join(path_folder_images, 'test')"
   ]
  },
  {
   "cell_type": "code",
   "execution_count": 40,
   "metadata": {},
   "outputs": [],
   "source": [
    "test_cats = pd.read_csv('test_images.csv', sep='\\t', index_col=0)\n",
    "test_cats['image'] = [(str(x)+'.jpg') for x in test_cats['product_id'].values]"
   ]
  },
  {
   "cell_type": "code",
   "execution_count": null,
   "metadata": {},
   "outputs": [],
   "source": []
  },
  {
   "cell_type": "code",
   "execution_count": 41,
   "metadata": {
    "id": "1mT1Ee5VGK-F"
   },
   "outputs": [],
   "source": [
    "def create_test(): \n",
    "    test_images=[]\n",
    "    for img in tqdm(test_cats['image']):       \n",
    "        final_path=os.path.join(test_data_dir, img)     \n",
    "        test_img=cv2.imread(final_path)     \n",
    "        img_arr=cv2.resize(test_img,(64,64)) ## преобразуем картинки (512,512) в (64,64) \n",
    "        test_images.append(img_arr)\n",
    "        \n",
    "    return np.array(test_images, dtype=float)"
   ]
  },
  {
   "cell_type": "code",
   "execution_count": 42,
   "metadata": {
    "colab": {
     "base_uri": "https://localhost:8080/"
    },
    "id": "OibScl-GGW8y",
    "outputId": "ff89165f-bf8a-459f-e30d-b75821143005"
   },
   "outputs": [
    {
     "name": "stderr",
     "output_type": "stream",
     "text": [
      "100%|█████████████████████████████████████████████████████████████████████████████| 16860/16860 [15:19<00:00, 18.35it/s]\n"
     ]
    }
   ],
   "source": [
    "test_images = create_test()"
   ]
  },
  {
   "cell_type": "code",
   "execution_count": 43,
   "metadata": {
    "colab": {
     "base_uri": "https://localhost:8080/"
    },
    "id": "iMinpo2yGW_X",
    "outputId": "ef435f6a-3c36-4994-c5bb-8e152f0526b3"
   },
   "outputs": [
    {
     "data": {
      "text/plain": [
       "16860"
      ]
     },
     "execution_count": 43,
     "metadata": {},
     "output_type": "execute_result"
    }
   ],
   "source": [
    "len(test_images)"
   ]
  },
  {
   "cell_type": "code",
   "execution_count": 44,
   "metadata": {},
   "outputs": [
    {
     "data": {
      "text/plain": [
       "array([240., 240., 240.])"
      ]
     },
     "execution_count": 44,
     "metadata": {},
     "output_type": "execute_result"
    }
   ],
   "source": [
    "test_images[0][0][1]"
   ]
  },
  {
   "cell_type": "code",
   "execution_count": 55,
   "metadata": {},
   "outputs": [
    {
     "name": "stderr",
     "output_type": "stream",
     "text": [
      "100%|██████████████████████████████████████████████████████████████████████████| 16860/16860 [00:00<00:00, 29581.98it/s]\n"
     ]
    }
   ],
   "source": [
    "# нормализация картинок test\n",
    "b_count = 0\n",
    "for b in tqdm(test_images):\n",
    "    test_images[b_count] = b / 255\n",
    "    b_count += 1"
   ]
  },
  {
   "cell_type": "code",
   "execution_count": 56,
   "metadata": {},
   "outputs": [
    {
     "data": {
      "text/plain": [
       "array([0.94117647, 0.94117647, 0.94117647])"
      ]
     },
     "execution_count": 56,
     "metadata": {},
     "output_type": "execute_result"
    }
   ],
   "source": [
    "test_images[0][0][1]"
   ]
  },
  {
   "cell_type": "code",
   "execution_count": 57,
   "metadata": {
    "id": "r6VA-7zqGmEy"
   },
   "outputs": [],
   "source": [
    "#сохраним загруженные test картинки\n",
    "np.save('test_images_np.npy',test_images)"
   ]
  },
  {
   "cell_type": "code",
   "execution_count": 61,
   "metadata": {
    "id": "4vz5MmcEGpaw"
   },
   "outputs": [],
   "source": [
    "# сохраним csv файл с описанием картинок test\n",
    "test_cats.to_csv('test_desc_images.csv', sep='\\t')"
   ]
  },
  {
   "cell_type": "code",
   "execution_count": null,
   "metadata": {},
   "outputs": [],
   "source": []
  }
 ],
 "metadata": {
  "colab": {
   "provenance": []
  },
  "gpuClass": "standard",
  "kernelspec": {
   "display_name": "Python 3 (ipykernel)",
   "language": "python",
   "name": "python3"
  },
  "language_info": {
   "codemirror_mode": {
    "name": "ipython",
    "version": 3
   },
   "file_extension": ".py",
   "mimetype": "text/x-python",
   "name": "python",
   "nbconvert_exporter": "python",
   "pygments_lexer": "ipython3",
   "version": "3.8.10"
  }
 },
 "nbformat": 4,
 "nbformat_minor": 1
}
