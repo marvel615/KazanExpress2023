{
 "cells": [
  {
   "cell_type": "code",
   "execution_count": 1,
   "metadata": {
    "id": "01tUjyr5bBF9"
   },
   "outputs": [],
   "source": [
    "import numpy as np\n",
    "import pandas as pd"
   ]
  },
  {
   "cell_type": "code",
   "execution_count": 2,
   "metadata": {
    "colab": {
     "base_uri": "https://localhost:8080/"
    },
    "id": "eKpdlGmhmGAZ",
    "outputId": "15ab5143-60cb-48f1-efa7-a423607e6704"
   },
   "outputs": [
    {
     "name": "stderr",
     "output_type": "stream",
     "text": [
      "[nltk_data] Downloading package stopwords to /root/nltk_data...\n",
      "[nltk_data]   Unzipping corpora/stopwords.zip.\n"
     ]
    },
    {
     "data": {
      "text/plain": [
       "True"
      ]
     },
     "execution_count": 2,
     "metadata": {},
     "output_type": "execute_result"
    }
   ],
   "source": [
    "import nltk\n",
    "nltk.download(\"stopwords\")"
   ]
  },
  {
   "cell_type": "code",
   "execution_count": 3,
   "metadata": {
    "id": "eIwk0i_7mGCv"
   },
   "outputs": [],
   "source": [
    "from nltk.corpus import stopwords"
   ]
  },
  {
   "cell_type": "code",
   "execution_count": 6,
   "metadata": {
    "id": "PG-kg4rDmGFj"
   },
   "outputs": [],
   "source": [
    "#!pip install pymystem3\n",
    "from pymystem3 import Mystem"
   ]
  },
  {
   "cell_type": "code",
   "execution_count": 5,
   "metadata": {
    "colab": {
     "base_uri": "https://localhost:8080/"
    },
    "id": "GuSM8JySmGIA",
    "outputId": "403631cb-fbc9-4ac8-95b0-ff24560d59fd"
   },
   "outputs": [
    {
     "name": "stderr",
     "output_type": "stream",
     "text": [
      "Installing mystem to /root/.local/bin/mystem from http://download.cdn.yandex.net/mystem/mystem-3.1-linux-64bit.tar.gz\n"
     ]
    }
   ],
   "source": [
    "mystem = Mystem() \n",
    "russian_stopwords = stopwords.words(\"russian\")"
   ]
  },
  {
   "cell_type": "markdown",
   "metadata": {},
   "source": [
    "не забудьте перенести в папку с этим .ipynb-файлом полученные в \"02 Balanced\" parquet-файлы 'train_undersampled_data' и 'train_oversampled_data'. Их мы будем очищать"
   ]
  },
  {
   "cell_type": "markdown",
   "metadata": {},
   "source": [
    "А также перенесите файл test_data.parquet, который тем же образом очистим для подготовки ответа на задание"
   ]
  },
  {
   "cell_type": "code",
   "execution_count": 7,
   "metadata": {
    "id": "lGppJ_kfmGKE"
   },
   "outputs": [],
   "source": [
    "def preprocess_text(text):\n",
    "    tokens = mystem.lemmatize(text)\n",
    "    tokens = [token for token in tokens if token not in russian_stopwords and token != \" \"]\n",
    "    \n",
    "    text = \" \".join(tokens)\n",
    "    \n",
    "    return text[:-2]"
   ]
  },
  {
   "cell_type": "code",
   "execution_count": 8,
   "metadata": {
    "id": "exXXZwW1mGMq"
   },
   "outputs": [],
   "source": [
    "train_before_oversample = pd.read_parquet('train_before_oversample.parquet')"
   ]
  },
  {
   "cell_type": "code",
   "execution_count": 9,
   "metadata": {
    "colab": {
     "base_uri": "https://localhost:8080/"
    },
    "id": "mUi118nymGO-",
    "outputId": "fcdc7ba5-dffa-4f95-dae2-21017c009d52"
   },
   "outputs": [
    {
     "data": {
      "text/plain": [
       "count    505.000000\n",
       "mean      19.877228\n",
       "std       13.201310\n",
       "min        1.000000\n",
       "25%        9.000000\n",
       "50%       17.000000\n",
       "75%       29.000000\n",
       "max       50.000000\n",
       "Name: category_id, dtype: float64"
      ]
     },
     "execution_count": 9,
     "metadata": {},
     "output_type": "execute_result"
    }
   ],
   "source": [
    "train_before_oversample['category_id'].value_counts().describe()"
   ]
  },
  {
   "cell_type": "code",
   "execution_count": 10,
   "metadata": {
    "colab": {
     "base_uri": "https://localhost:8080/"
    },
    "id": "aFCt7_Xrma6f",
    "outputId": "1a944a82-ce73-43c0-c2cc-7eea324b7871"
   },
   "outputs": [
    {
     "data": {
      "text/plain": [
       "10038"
      ]
     },
     "execution_count": 10,
     "metadata": {},
     "output_type": "execute_result"
    }
   ],
   "source": [
    "len(train_before_oversample)"
   ]
  },
  {
   "cell_type": "code",
   "execution_count": 12,
   "metadata": {
    "id": "rq7igStUma_Z"
   },
   "outputs": [],
   "source": [
    "def cleaner_text(df):\n",
    "  df_cpy = df.copy()\n",
    "  new_docs = []\n",
    "  for i in range(len(df_cpy)):\n",
    "    new_docs.append(preprocess_text(df_cpy['Docs'].iloc[i]))\n",
    "\n",
    "  df_cpy['Docs'] = new_docs\n",
    "\n",
    "  return df_cpy"
   ]
  },
  {
   "cell_type": "code",
   "execution_count": null,
   "metadata": {
    "id": "PQCR4MosnBDB"
   },
   "outputs": [],
   "source": []
  },
  {
   "cell_type": "code",
   "execution_count": 13,
   "metadata": {
    "id": "YOXviMZ3nBFd"
   },
   "outputs": [],
   "source": [
    "import time"
   ]
  },
  {
   "cell_type": "code",
   "execution_count": 17,
   "metadata": {
    "colab": {
     "base_uri": "https://localhost:8080/"
    },
    "id": "zhjSgENnmbBY",
    "outputId": "86d126e0-1db5-4d4f-8e40-f25e644d8eca"
   },
   "outputs": [
    {
     "name": "stdout",
     "output_type": "stream",
     "text": [
      "CPU times: user 2.12 s, sys: 183 ms, total: 2.3 s\n",
      "Wall time: 7.59 s\n"
     ]
    }
   ],
   "source": [
    "%%time\n",
    "train_before_oversample_cleaned = cleaner_text(train_before_oversample)"
   ]
  },
  {
   "cell_type": "code",
   "execution_count": 19,
   "metadata": {
    "colab": {
     "base_uri": "https://localhost:8080/",
     "height": 206
    },
    "id": "9cgBMtQXnJeW",
    "outputId": "6fd614b9-d070-4326-e7ce-fb5ee3fb0c6a"
   },
   "outputs": [
    {
     "data": {
      "text/html": [
       "\n",
       "  <div id=\"df-654b1a0d-9530-4f1b-8bca-e0dd5f1bdb22\">\n",
       "    <div class=\"colab-df-container\">\n",
       "      <div>\n",
       "<style scoped>\n",
       "    .dataframe tbody tr th:only-of-type {\n",
       "        vertical-align: middle;\n",
       "    }\n",
       "\n",
       "    .dataframe tbody tr th {\n",
       "        vertical-align: top;\n",
       "    }\n",
       "\n",
       "    .dataframe thead th {\n",
       "        text-align: right;\n",
       "    }\n",
       "</style>\n",
       "<table border=\"1\" class=\"dataframe\">\n",
       "  <thead>\n",
       "    <tr style=\"text-align: right;\">\n",
       "      <th></th>\n",
       "      <th>category_id</th>\n",
       "      <th>Docs</th>\n",
       "    </tr>\n",
       "  </thead>\n",
       "  <tbody>\n",
       "    <tr>\n",
       "      <th>1689</th>\n",
       "      <td>12773</td>\n",
       "      <td>осветитель вспышка селфи кольцо телефон селфи ...</td>\n",
       "    </tr>\n",
       "    <tr>\n",
       "      <th>4345</th>\n",
       "      <td>12773</td>\n",
       "      <td>осветитель вспышка лампа кольцо селфи миниатюр...</td>\n",
       "    </tr>\n",
       "    <tr>\n",
       "      <th>5580</th>\n",
       "      <td>12773</td>\n",
       "      <td>осветитель вспышка селфи кольцо лампа телефон ...</td>\n",
       "    </tr>\n",
       "    <tr>\n",
       "      <th>8892</th>\n",
       "      <td>12773</td>\n",
       "      <td>осветитель вспышка кольцевой лампа    светодио...</td>\n",
       "    </tr>\n",
       "    <tr>\n",
       "      <th>11479</th>\n",
       "      <td>12773</td>\n",
       "      <td>осветитель вспышка селфи лампа телефон селфи к...</td>\n",
       "    </tr>\n",
       "  </tbody>\n",
       "</table>\n",
       "</div>\n",
       "      <button class=\"colab-df-convert\" onclick=\"convertToInteractive('df-654b1a0d-9530-4f1b-8bca-e0dd5f1bdb22')\"\n",
       "              title=\"Convert this dataframe to an interactive table.\"\n",
       "              style=\"display:none;\">\n",
       "        \n",
       "  <svg xmlns=\"http://www.w3.org/2000/svg\" height=\"24px\"viewBox=\"0 0 24 24\"\n",
       "       width=\"24px\">\n",
       "    <path d=\"M0 0h24v24H0V0z\" fill=\"none\"/>\n",
       "    <path d=\"M18.56 5.44l.94 2.06.94-2.06 2.06-.94-2.06-.94-.94-2.06-.94 2.06-2.06.94zm-11 1L8.5 8.5l.94-2.06 2.06-.94-2.06-.94L8.5 2.5l-.94 2.06-2.06.94zm10 10l.94 2.06.94-2.06 2.06-.94-2.06-.94-.94-2.06-.94 2.06-2.06.94z\"/><path d=\"M17.41 7.96l-1.37-1.37c-.4-.4-.92-.59-1.43-.59-.52 0-1.04.2-1.43.59L10.3 9.45l-7.72 7.72c-.78.78-.78 2.05 0 2.83L4 21.41c.39.39.9.59 1.41.59.51 0 1.02-.2 1.41-.59l7.78-7.78 2.81-2.81c.8-.78.8-2.07 0-2.86zM5.41 20L4 18.59l7.72-7.72 1.47 1.35L5.41 20z\"/>\n",
       "  </svg>\n",
       "      </button>\n",
       "      \n",
       "  <style>\n",
       "    .colab-df-container {\n",
       "      display:flex;\n",
       "      flex-wrap:wrap;\n",
       "      gap: 12px;\n",
       "    }\n",
       "\n",
       "    .colab-df-convert {\n",
       "      background-color: #E8F0FE;\n",
       "      border: none;\n",
       "      border-radius: 50%;\n",
       "      cursor: pointer;\n",
       "      display: none;\n",
       "      fill: #1967D2;\n",
       "      height: 32px;\n",
       "      padding: 0 0 0 0;\n",
       "      width: 32px;\n",
       "    }\n",
       "\n",
       "    .colab-df-convert:hover {\n",
       "      background-color: #E2EBFA;\n",
       "      box-shadow: 0px 1px 2px rgba(60, 64, 67, 0.3), 0px 1px 3px 1px rgba(60, 64, 67, 0.15);\n",
       "      fill: #174EA6;\n",
       "    }\n",
       "\n",
       "    [theme=dark] .colab-df-convert {\n",
       "      background-color: #3B4455;\n",
       "      fill: #D2E3FC;\n",
       "    }\n",
       "\n",
       "    [theme=dark] .colab-df-convert:hover {\n",
       "      background-color: #434B5C;\n",
       "      box-shadow: 0px 1px 3px 1px rgba(0, 0, 0, 0.15);\n",
       "      filter: drop-shadow(0px 1px 2px rgba(0, 0, 0, 0.3));\n",
       "      fill: #FFFFFF;\n",
       "    }\n",
       "  </style>\n",
       "\n",
       "      <script>\n",
       "        const buttonEl =\n",
       "          document.querySelector('#df-654b1a0d-9530-4f1b-8bca-e0dd5f1bdb22 button.colab-df-convert');\n",
       "        buttonEl.style.display =\n",
       "          google.colab.kernel.accessAllowed ? 'block' : 'none';\n",
       "\n",
       "        async function convertToInteractive(key) {\n",
       "          const element = document.querySelector('#df-654b1a0d-9530-4f1b-8bca-e0dd5f1bdb22');\n",
       "          const dataTable =\n",
       "            await google.colab.kernel.invokeFunction('convertToInteractive',\n",
       "                                                     [key], {});\n",
       "          if (!dataTable) return;\n",
       "\n",
       "          const docLinkHtml = 'Like what you see? Visit the ' +\n",
       "            '<a target=\"_blank\" href=https://colab.research.google.com/notebooks/data_table.ipynb>data table notebook</a>'\n",
       "            + ' to learn more about interactive tables.';\n",
       "          element.innerHTML = '';\n",
       "          dataTable['output_type'] = 'display_data';\n",
       "          await google.colab.output.renderOutput(dataTable, element);\n",
       "          const docLink = document.createElement('div');\n",
       "          docLink.innerHTML = docLinkHtml;\n",
       "          element.appendChild(docLink);\n",
       "        }\n",
       "      </script>\n",
       "    </div>\n",
       "  </div>\n",
       "  "
      ],
      "text/plain": [
       "       category_id                                               Docs\n",
       "1689         12773  осветитель вспышка селфи кольцо телефон селфи ...\n",
       "4345         12773  осветитель вспышка лампа кольцо селфи миниатюр...\n",
       "5580         12773  осветитель вспышка селфи кольцо лампа телефон ...\n",
       "8892         12773  осветитель вспышка кольцевой лампа    светодио...\n",
       "11479        12773  осветитель вспышка селфи лампа телефон селфи к..."
      ]
     },
     "execution_count": 19,
     "metadata": {},
     "output_type": "execute_result"
    }
   ],
   "source": [
    "train_before_oversample_cleaned.head()"
   ]
  },
  {
   "cell_type": "code",
   "execution_count": 20,
   "metadata": {
    "id": "p9r9ZZ-pnbT4"
   },
   "outputs": [],
   "source": [
    "def bootstrap_oversample(df, n_samples):\n",
    "    cats = np.unique(df['category_id'].values)\n",
    "    \n",
    "    samples = []\n",
    "    \n",
    "    for cat in cats:\n",
    "        current_group = df[df['category_id']==cat]\n",
    "        for i in range(n_samples):\n",
    "            sample = current_group.sample()\n",
    "            samples.append(list(sample.values[0]))\n",
    "            \n",
    "    df_new = pd.DataFrame(samples)\n",
    "    \n",
    "    \n",
    "    return df_new.rename(columns = {0:'category_id', 1:'Docs'})"
   ]
  },
  {
   "cell_type": "code",
   "execution_count": 21,
   "metadata": {
    "id": "KAiYjXfhnspX"
   },
   "outputs": [],
   "source": [
    "df_oversampled = bootstrap_oversample(train_before_oversample_cleaned, 50)"
   ]
  },
  {
   "cell_type": "code",
   "execution_count": 22,
   "metadata": {
    "colab": {
     "base_uri": "https://localhost:8080/"
    },
    "id": "AUt7nGdUnzJM",
    "outputId": "2ecd21a6-10fa-4855-e557-2c769be782aa"
   },
   "outputs": [
    {
     "data": {
      "text/plain": [
       "count    505.0\n",
       "mean      50.0\n",
       "std        0.0\n",
       "min       50.0\n",
       "25%       50.0\n",
       "50%       50.0\n",
       "75%       50.0\n",
       "max       50.0\n",
       "Name: category_id, dtype: float64"
      ]
     },
     "execution_count": 22,
     "metadata": {},
     "output_type": "execute_result"
    }
   ],
   "source": [
    "df_oversampled['category_id'].value_counts().describe()"
   ]
  },
  {
   "cell_type": "code",
   "execution_count": 28,
   "metadata": {
    "colab": {
     "base_uri": "https://localhost:8080/"
    },
    "id": "dvQ0g9AipVF4",
    "outputId": "f9f5b4b6-5e30-4336-da7f-22d3dca5fb67"
   },
   "outputs": [
    {
     "data": {
      "text/plain": [
       "25250"
      ]
     },
     "execution_count": 28,
     "metadata": {},
     "output_type": "execute_result"
    }
   ],
   "source": [
    "len(df_oversampled)"
   ]
  },
  {
   "cell_type": "code",
   "execution_count": 24,
   "metadata": {
    "id": "5ZjFeegSn2K0"
   },
   "outputs": [],
   "source": [
    "#Сохраняем oversampled_data\n",
    "df_oversampled.to_parquet('train_oversampled_cleanest_data.parquet')"
   ]
  },
  {
   "cell_type": "code",
   "execution_count": null,
   "metadata": {
    "id": "Wxefq1uooGmZ"
   },
   "outputs": [],
   "source": []
  },
  {
   "cell_type": "code",
   "execution_count": 25,
   "metadata": {
    "id": "VQHaHsqVoGuT"
   },
   "outputs": [],
   "source": [
    "train_undersampled_data = pd.read_parquet('train_undersampled_data.parquet')"
   ]
  },
  {
   "cell_type": "code",
   "execution_count": 26,
   "metadata": {
    "colab": {
     "base_uri": "https://localhost:8080/"
    },
    "id": "gCZJsaCsoG1k",
    "outputId": "9df744f7-880b-482f-f386-7e395c21744a"
   },
   "outputs": [
    {
     "name": "stdout",
     "output_type": "stream",
     "text": [
      "CPU times: user 3.86 s, sys: 318 ms, total: 4.18 s\n",
      "Wall time: 14.2 s\n"
     ]
    }
   ],
   "source": [
    "%%time\n",
    "train_undersampled_data_cleaned = cleaner_text(train_undersampled_data)"
   ]
  },
  {
   "cell_type": "code",
   "execution_count": 27,
   "metadata": {
    "id": "lDcrITbao0vw"
   },
   "outputs": [],
   "source": [
    "#Сохраняем undersampled_data\n",
    "train_undersampled_data_cleaned.to_parquet('train_undersampled_cleanest_data.parquet')"
   ]
  },
  {
   "cell_type": "code",
   "execution_count": null,
   "metadata": {
    "id": "0PYPGRBIpZ68"
   },
   "outputs": [],
   "source": []
  },
  {
   "cell_type": "code",
   "execution_count": 30,
   "metadata": {
    "id": "9cWTlWVVpc-0"
   },
   "outputs": [],
   "source": [
    "test_data =  pd.read_parquet('test_data.parquet')"
   ]
  },
  {
   "cell_type": "code",
   "execution_count": 32,
   "metadata": {
    "colab": {
     "base_uri": "https://localhost:8080/"
    },
    "id": "H5iYaLCipkB2",
    "outputId": "83004d43-e0c9-4adb-bcc5-c4db798deb1f"
   },
   "outputs": [
    {
     "name": "stdout",
     "output_type": "stream",
     "text": [
      "CPU times: user 3.41 s, sys: 330 ms, total: 3.74 s\n",
      "Wall time: 13.2 s\n"
     ]
    }
   ],
   "source": [
    "%%time\n",
    "test_data_cleaned = cleaner_text(test_data)"
   ]
  },
  {
   "cell_type": "code",
   "execution_count": 35,
   "metadata": {
    "id": "nPRFc5SvptG6"
   },
   "outputs": [],
   "source": [
    "test_data_cleaned.to_parquet('test_data_cleaned.parquet')"
   ]
  },
  {
   "cell_type": "code",
   "execution_count": null,
   "metadata": {
    "id": "DIuk1XIhpuZa"
   },
   "outputs": [],
   "source": []
  }
 ],
 "metadata": {
  "accelerator": "GPU",
  "colab": {
   "provenance": []
  },
  "kernelspec": {
   "display_name": "Python 3 (ipykernel)",
   "language": "python",
   "name": "python3"
  },
  "language_info": {
   "codemirror_mode": {
    "name": "ipython",
    "version": 3
   },
   "file_extension": ".py",
   "mimetype": "text/x-python",
   "name": "python",
   "nbconvert_exporter": "python",
   "pygments_lexer": "ipython3",
   "version": "3.8.10"
  }
 },
 "nbformat": 4,
 "nbformat_minor": 1
}
