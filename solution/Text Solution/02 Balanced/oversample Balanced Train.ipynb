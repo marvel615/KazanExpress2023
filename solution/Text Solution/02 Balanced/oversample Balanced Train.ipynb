{
 "cells": [
  {
   "cell_type": "code",
   "execution_count": 1,
   "id": "2c5306ee",
   "metadata": {},
   "outputs": [],
   "source": [
    "import numpy as np\n",
    "import pandas as pd"
   ]
  },
  {
   "cell_type": "markdown",
   "id": "5b371255",
   "metadata": {},
   "source": [
    "не забудьте перенести в папку с этим .ipynb-файлом 'train_data.parquet', полученный в \"01 Preparation\". Именно с помощью него будем формировать сбалансированную обучающую выборку."
   ]
  },
  {
   "cell_type": "code",
   "execution_count": 2,
   "id": "66cd9dd2",
   "metadata": {},
   "outputs": [],
   "source": [
    "data = pd.read_parquet('train_data.parquet')"
   ]
  },
  {
   "cell_type": "code",
   "execution_count": 3,
   "id": "83b9bae9",
   "metadata": {},
   "outputs": [
    {
     "data": {
      "text/plain": [
       "11937    6590\n",
       "14922    3709\n",
       "13651    1463\n",
       "13143    1460\n",
       "12980    1222\n",
       "         ... \n",
       "12808       2\n",
       "12901       1\n",
       "11549       1\n",
       "11875       1\n",
       "12836       1\n",
       "Name: category_id, Length: 874, dtype: int64"
      ]
     },
     "execution_count": 3,
     "metadata": {},
     "output_type": "execute_result"
    }
   ],
   "source": [
    "data['category_id'].value_counts()"
   ]
  },
  {
   "cell_type": "code",
   "execution_count": 4,
   "id": "515dbd50",
   "metadata": {},
   "outputs": [
    {
     "data": {
      "text/plain": [
       "count     874.000000\n",
       "mean      104.256293\n",
       "std       300.107191\n",
       "min         1.000000\n",
       "25%        14.000000\n",
       "50%        38.000000\n",
       "75%        99.000000\n",
       "max      6590.000000\n",
       "Name: category_id, dtype: float64"
      ]
     },
     "execution_count": 4,
     "metadata": {},
     "output_type": "execute_result"
    }
   ],
   "source": [
    "data['category_id'].value_counts().describe()"
   ]
  },
  {
   "cell_type": "markdown",
   "id": "09e8ab82",
   "metadata": {},
   "source": [
    "Выберем по 50 объектов каждого класса"
   ]
  },
  {
   "cell_type": "markdown",
   "id": "be78e0d0",
   "metadata": {},
   "source": [
    "C OverSample посложнее"
   ]
  },
  {
   "cell_type": "code",
   "execution_count": 5,
   "id": "feb8b3bc",
   "metadata": {},
   "outputs": [],
   "source": [
    "#Prepare for OverSampling\n",
    "def prepare_over_sample(df, n_sample):\n",
    "    desc_cats = df['category_id'].value_counts().to_frame()\n",
    "    desc_cats = desc_cats[desc_cats['category_id']<=n_sample]\n",
    "    \n",
    "    ids_for_oversample = desc_cats.index\n",
    "    \n",
    "    pre_over_sample_idxs = []\n",
    "    for idx in ids_for_oversample:\n",
    "        indices_current_cat = df[df['category_id']==idx].index\n",
    "        \n",
    "        pre_over_sample_idxs.append(list(indices_current_cat))\n",
    "    \n",
    "    return_ix = np.array([a for b in pre_over_sample_idxs for a in b])\n",
    "    return df.loc[return_ix]"
   ]
  },
  {
   "cell_type": "code",
   "execution_count": 6,
   "id": "92a608be",
   "metadata": {},
   "outputs": [],
   "source": [
    "data_for_over = prepare_over_sample(data, 50)"
   ]
  },
  {
   "cell_type": "code",
   "execution_count": 7,
   "id": "1a5ef6d7",
   "metadata": {},
   "outputs": [
    {
     "data": {
      "text/plain": [
       "12773    50\n",
       "15068    50\n",
       "11636    50\n",
       "13847    50\n",
       "14682    49\n",
       "         ..\n",
       "12808     2\n",
       "12901     1\n",
       "11549     1\n",
       "11875     1\n",
       "12836     1\n",
       "Name: category_id, Length: 505, dtype: int64"
      ]
     },
     "execution_count": 7,
     "metadata": {},
     "output_type": "execute_result"
    }
   ],
   "source": [
    "data_for_over['category_id'].value_counts()"
   ]
  },
  {
   "cell_type": "code",
   "execution_count": 8,
   "id": "f99e3c73",
   "metadata": {},
   "outputs": [
    {
     "data": {
      "text/plain": [
       "count    505.000000\n",
       "mean      19.877228\n",
       "std       13.201310\n",
       "min        1.000000\n",
       "25%        9.000000\n",
       "50%       17.000000\n",
       "75%       29.000000\n",
       "max       50.000000\n",
       "Name: category_id, dtype: float64"
      ]
     },
     "execution_count": 8,
     "metadata": {},
     "output_type": "execute_result"
    }
   ],
   "source": [
    "data_for_over['category_id'].value_counts().describe()"
   ]
  },
  {
   "cell_type": "code",
   "execution_count": 27,
   "id": "ed201461",
   "metadata": {},
   "outputs": [],
   "source": [
    "#Сохраним промежуточный результат\n",
    "#data_for_over.to_parquet('train_before_oversample.parquet')"
   ]
  },
  {
   "cell_type": "code",
   "execution_count": 61,
   "id": "f66e4612",
   "metadata": {},
   "outputs": [
    {
     "data": {
      "text/html": [
       "<div>\n",
       "<style scoped>\n",
       "    .dataframe tbody tr th:only-of-type {\n",
       "        vertical-align: middle;\n",
       "    }\n",
       "\n",
       "    .dataframe tbody tr th {\n",
       "        vertical-align: top;\n",
       "    }\n",
       "\n",
       "    .dataframe thead th {\n",
       "        text-align: right;\n",
       "    }\n",
       "</style>\n",
       "<table border=\"1\" class=\"dataframe\">\n",
       "  <thead>\n",
       "    <tr style=\"text-align: right;\">\n",
       "      <th></th>\n",
       "      <th>category_id</th>\n",
       "      <th>Docs</th>\n",
       "    </tr>\n",
       "  </thead>\n",
       "  <tbody>\n",
       "    <tr>\n",
       "      <th>1689</th>\n",
       "      <td>12773</td>\n",
       "      <td>осветители и вспышки селфи кольцо на телефон с...</td>\n",
       "    </tr>\n",
       "    <tr>\n",
       "      <th>4345</th>\n",
       "      <td>12773</td>\n",
       "      <td>осветители и вспышки лампа кольцо для селфи ми...</td>\n",
       "    </tr>\n",
       "    <tr>\n",
       "      <th>5580</th>\n",
       "      <td>12773</td>\n",
       "      <td>осветители и вспышки селфи кольцо лампа для те...</td>\n",
       "    </tr>\n",
       "    <tr>\n",
       "      <th>8892</th>\n",
       "      <td>12773</td>\n",
       "      <td>осветители и вспышки кольцевая лампа  светодио...</td>\n",
       "    </tr>\n",
       "    <tr>\n",
       "      <th>11479</th>\n",
       "      <td>12773</td>\n",
       "      <td>осветители и вспышки селфи лампа для телефона ...</td>\n",
       "    </tr>\n",
       "  </tbody>\n",
       "</table>\n",
       "</div>"
      ],
      "text/plain": [
       "       category_id                                               Docs\n",
       "1689         12773  осветители и вспышки селфи кольцо на телефон с...\n",
       "4345         12773  осветители и вспышки лампа кольцо для селфи ми...\n",
       "5580         12773  осветители и вспышки селфи кольцо лампа для те...\n",
       "8892         12773  осветители и вспышки кольцевая лампа  светодио...\n",
       "11479        12773  осветители и вспышки селфи лампа для телефона ..."
      ]
     },
     "execution_count": 61,
     "metadata": {},
     "output_type": "execute_result"
    }
   ],
   "source": [
    "data_for_over.head()"
   ]
  },
  {
   "cell_type": "code",
   "execution_count": 67,
   "id": "7e6c740d",
   "metadata": {},
   "outputs": [],
   "source": [
    "def bootstrap_oversample(df, n_samples):\n",
    "    cats = np.unique(df['category_id'].values)\n",
    "    \n",
    "    samples = []\n",
    "    \n",
    "    for cat in cats:\n",
    "        current_group = df[df['category_id']==cat]\n",
    "        for i in range(n_samples):\n",
    "            sample = current_group.sample()\n",
    "            samples.append(list(sample.values[0]))\n",
    "            \n",
    "    df_new = pd.DataFrame(samples)\n",
    "    \n",
    "    \n",
    "    return df_new.rename(columns = {0:'category_id', 1:'Docs'})"
   ]
  },
  {
   "cell_type": "code",
   "execution_count": 69,
   "id": "4ae1c1bc",
   "metadata": {},
   "outputs": [],
   "source": [
    "df_oversampled = bootstrap_oversample(data_for_over, 50)"
   ]
  },
  {
   "cell_type": "code",
   "execution_count": 71,
   "id": "91c33b48",
   "metadata": {},
   "outputs": [
    {
     "data": {
      "text/plain": [
       "count    505.0\n",
       "mean      50.0\n",
       "std        0.0\n",
       "min       50.0\n",
       "25%       50.0\n",
       "50%       50.0\n",
       "75%       50.0\n",
       "max       50.0\n",
       "Name: category_id, dtype: float64"
      ]
     },
     "execution_count": 71,
     "metadata": {},
     "output_type": "execute_result"
    }
   ],
   "source": [
    "df_oversampled['category_id'].value_counts().describe()"
   ]
  },
  {
   "cell_type": "code",
   "execution_count": 75,
   "id": "c8a767f3",
   "metadata": {},
   "outputs": [
    {
     "data": {
      "text/html": [
       "<div>\n",
       "<style scoped>\n",
       "    .dataframe tbody tr th:only-of-type {\n",
       "        vertical-align: middle;\n",
       "    }\n",
       "\n",
       "    .dataframe tbody tr th {\n",
       "        vertical-align: top;\n",
       "    }\n",
       "\n",
       "    .dataframe thead th {\n",
       "        text-align: right;\n",
       "    }\n",
       "</style>\n",
       "<table border=\"1\" class=\"dataframe\">\n",
       "  <thead>\n",
       "    <tr style=\"text-align: right;\">\n",
       "      <th></th>\n",
       "      <th>category_id</th>\n",
       "      <th>Docs</th>\n",
       "    </tr>\n",
       "  </thead>\n",
       "  <tbody>\n",
       "    <tr>\n",
       "      <th>0</th>\n",
       "      <td>2600</td>\n",
       "      <td>пляжная одежда пляжное платье рубашка промокод...</td>\n",
       "    </tr>\n",
       "    <tr>\n",
       "      <th>1</th>\n",
       "      <td>2600</td>\n",
       "      <td>пляжная одежда женская пляжная накидка яркая н...</td>\n",
       "    </tr>\n",
       "    <tr>\n",
       "      <th>2</th>\n",
       "      <td>2600</td>\n",
       "      <td>пляжная одежда рубашка пляжное платье женская ...</td>\n",
       "    </tr>\n",
       "    <tr>\n",
       "      <th>3</th>\n",
       "      <td>2600</td>\n",
       "      <td>пляжная одежда пляжное платье цвет   синий100 ...</td>\n",
       "    </tr>\n",
       "    <tr>\n",
       "      <th>4</th>\n",
       "      <td>2600</td>\n",
       "      <td>пляжная одежда женская пляжная накидка яркая н...</td>\n",
       "    </tr>\n",
       "  </tbody>\n",
       "</table>\n",
       "</div>"
      ],
      "text/plain": [
       "   category_id                                               Docs\n",
       "0         2600  пляжная одежда пляжное платье рубашка промокод...\n",
       "1         2600  пляжная одежда женская пляжная накидка яркая н...\n",
       "2         2600  пляжная одежда рубашка пляжное платье женская ...\n",
       "3         2600  пляжная одежда пляжное платье цвет   синий100 ...\n",
       "4         2600  пляжная одежда женская пляжная накидка яркая н..."
      ]
     },
     "execution_count": 75,
     "metadata": {},
     "output_type": "execute_result"
    }
   ],
   "source": [
    "df_oversampled.head()"
   ]
  },
  {
   "cell_type": "code",
   "execution_count": null,
   "id": "5075e3bf",
   "metadata": {},
   "outputs": [],
   "source": []
  },
  {
   "cell_type": "code",
   "execution_count": 76,
   "id": "c73cf978",
   "metadata": {},
   "outputs": [],
   "source": [
    "#Сохраняем oversampled_data\n",
    "df_oversampled.to_parquet('train_oversampled_data.parquet')"
   ]
  },
  {
   "cell_type": "code",
   "execution_count": null,
   "id": "080cc66d",
   "metadata": {},
   "outputs": [],
   "source": []
  }
 ],
 "metadata": {
  "kernelspec": {
   "display_name": "Python 3 (ipykernel)",
   "language": "python",
   "name": "python3"
  },
  "language_info": {
   "codemirror_mode": {
    "name": "ipython",
    "version": 3
   },
   "file_extension": ".py",
   "mimetype": "text/x-python",
   "name": "python",
   "nbconvert_exporter": "python",
   "pygments_lexer": "ipython3",
   "version": "3.8.10"
  }
 },
 "nbformat": 4,
 "nbformat_minor": 5
}
