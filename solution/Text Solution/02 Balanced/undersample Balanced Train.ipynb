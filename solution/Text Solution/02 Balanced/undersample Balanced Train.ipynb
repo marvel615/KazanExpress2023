{
 "cells": [
  {
   "cell_type": "code",
   "execution_count": 1,
   "id": "2c5306ee",
   "metadata": {},
   "outputs": [],
   "source": [
    "import numpy as np\n",
    "import pandas as pd"
   ]
  },
  {
   "cell_type": "markdown",
   "id": "d6428b08",
   "metadata": {},
   "source": [
    "не забудьте перенести в папку с этим .ipynb-файлом 'train_data.parquet', полученный в \"01 Preparation\". Именно с помощью него будем формировать сбалансированную обучающую выборку."
   ]
  },
  {
   "cell_type": "code",
   "execution_count": 2,
   "id": "66cd9dd2",
   "metadata": {},
   "outputs": [],
   "source": [
    "data = pd.read_parquet('train_data.parquet')"
   ]
  },
  {
   "cell_type": "code",
   "execution_count": 3,
   "id": "83b9bae9",
   "metadata": {},
   "outputs": [
    {
     "data": {
      "text/plain": [
       "11937    6590\n",
       "14922    3709\n",
       "13651    1463\n",
       "13143    1460\n",
       "12980    1222\n",
       "         ... \n",
       "12808       2\n",
       "12901       1\n",
       "11549       1\n",
       "11875       1\n",
       "12836       1\n",
       "Name: category_id, Length: 874, dtype: int64"
      ]
     },
     "execution_count": 3,
     "metadata": {},
     "output_type": "execute_result"
    }
   ],
   "source": [
    "data['category_id'].value_counts()"
   ]
  },
  {
   "cell_type": "code",
   "execution_count": 4,
   "id": "515dbd50",
   "metadata": {},
   "outputs": [
    {
     "data": {
      "text/plain": [
       "count     874.000000\n",
       "mean      104.256293\n",
       "std       300.107191\n",
       "min         1.000000\n",
       "25%        14.000000\n",
       "50%        38.000000\n",
       "75%        99.000000\n",
       "max      6590.000000\n",
       "Name: category_id, dtype: float64"
      ]
     },
     "execution_count": 4,
     "metadata": {},
     "output_type": "execute_result"
    }
   ],
   "source": [
    "data['category_id'].value_counts().describe()"
   ]
  },
  {
   "cell_type": "markdown",
   "id": "09e8ab82",
   "metadata": {},
   "source": [
    "Выберем по 50 объектов каждого класса"
   ]
  },
  {
   "cell_type": "code",
   "execution_count": 5,
   "id": "dced4ae4",
   "metadata": {},
   "outputs": [],
   "source": [
    "#UnderSampling\n",
    "def under_sample(df, n_sample):\n",
    "    desc_cats = df['category_id'].value_counts().to_frame()\n",
    "    desc_cats = desc_cats[desc_cats['category_id']>n_sample]\n",
    "    \n",
    "    ids_for_undersample = desc_cats.index\n",
    "    \n",
    "    under_sample_idxs = []\n",
    "    for idx in ids_for_undersample:\n",
    "        indices_current_cat = df[df['category_id']==idx].index\n",
    "        random_indices = np.random.choice(indices_current_cat, n_sample, replace=False)\n",
    "        \n",
    "        under_sample_idxs.append(list(random_indices))\n",
    "    \n",
    "    return_ix = np.array(under_sample_idxs).reshape(1, -1)[0]\n",
    "    return df.loc[return_ix]"
   ]
  },
  {
   "cell_type": "code",
   "execution_count": 6,
   "id": "b57c9e81",
   "metadata": {},
   "outputs": [],
   "source": [
    "df_under = under_sample(data, 50)"
   ]
  },
  {
   "cell_type": "code",
   "execution_count": 7,
   "id": "7811fc8d",
   "metadata": {},
   "outputs": [
    {
     "data": {
      "text/html": [
       "<div>\n",
       "<style scoped>\n",
       "    .dataframe tbody tr th:only-of-type {\n",
       "        vertical-align: middle;\n",
       "    }\n",
       "\n",
       "    .dataframe tbody tr th {\n",
       "        vertical-align: top;\n",
       "    }\n",
       "\n",
       "    .dataframe thead th {\n",
       "        text-align: right;\n",
       "    }\n",
       "</style>\n",
       "<table border=\"1\" class=\"dataframe\">\n",
       "  <thead>\n",
       "    <tr style=\"text-align: right;\">\n",
       "      <th></th>\n",
       "      <th>category_id</th>\n",
       "      <th>Docs</th>\n",
       "    </tr>\n",
       "  </thead>\n",
       "  <tbody>\n",
       "    <tr>\n",
       "      <th>56490</th>\n",
       "      <td>11937</td>\n",
       "      <td>чехлы плотный чехол для xiaomi poco m3   redmi...</td>\n",
       "    </tr>\n",
       "    <tr>\n",
       "      <th>21838</th>\n",
       "      <td>11937</td>\n",
       "      <td>чехлы силиконовый чехол с принтом для iphone 6...</td>\n",
       "    </tr>\n",
       "    <tr>\n",
       "      <th>53928</th>\n",
       "      <td>11937</td>\n",
       "      <td>чехлы чехол oneplus 7t pro черный силиконовый ...</td>\n",
       "    </tr>\n",
       "    <tr>\n",
       "      <th>13532</th>\n",
       "      <td>11937</td>\n",
       "      <td>чехлы чехол samsung galaxy a50   a50s   a30s с...</td>\n",
       "    </tr>\n",
       "    <tr>\n",
       "      <th>34585</th>\n",
       "      <td>11937</td>\n",
       "      <td>чехлы силиконовый чехол для xiaomi redmi 4x  с...</td>\n",
       "    </tr>\n",
       "    <tr>\n",
       "      <th>...</th>\n",
       "      <td>...</td>\n",
       "      <td>...</td>\n",
       "    </tr>\n",
       "    <tr>\n",
       "      <th>80621</th>\n",
       "      <td>14540</td>\n",
       "      <td>термопасты и термопрокладки arduino термальная...</td>\n",
       "    </tr>\n",
       "    <tr>\n",
       "      <th>5604</th>\n",
       "      <td>14540</td>\n",
       "      <td>термопасты и термопрокладки смазка для кулеров...</td>\n",
       "    </tr>\n",
       "    <tr>\n",
       "      <th>64578</th>\n",
       "      <td>14540</td>\n",
       "      <td>термопасты и термопрокладки термопаста  steel ...</td>\n",
       "    </tr>\n",
       "    <tr>\n",
       "      <th>81172</th>\n",
       "      <td>14540</td>\n",
       "      <td>термопасты и термопрокладки термопаста силикон...</td>\n",
       "    </tr>\n",
       "    <tr>\n",
       "      <th>71047</th>\n",
       "      <td>14540</td>\n",
       "      <td>термопасты и термопрокладки термопаста gd900 1...</td>\n",
       "    </tr>\n",
       "  </tbody>\n",
       "</table>\n",
       "<p>18450 rows × 2 columns</p>\n",
       "</div>"
      ],
      "text/plain": [
       "       category_id                                               Docs\n",
       "56490        11937  чехлы плотный чехол для xiaomi poco m3   redmi...\n",
       "21838        11937  чехлы силиконовый чехол с принтом для iphone 6...\n",
       "53928        11937  чехлы чехол oneplus 7t pro черный силиконовый ...\n",
       "13532        11937  чехлы чехол samsung galaxy a50   a50s   a30s с...\n",
       "34585        11937  чехлы силиконовый чехол для xiaomi redmi 4x  с...\n",
       "...            ...                                                ...\n",
       "80621        14540  термопасты и термопрокладки arduino термальная...\n",
       "5604         14540  термопасты и термопрокладки смазка для кулеров...\n",
       "64578        14540  термопасты и термопрокладки термопаста  steel ...\n",
       "81172        14540  термопасты и термопрокладки термопаста силикон...\n",
       "71047        14540  термопасты и термопрокладки термопаста gd900 1...\n",
       "\n",
       "[18450 rows x 2 columns]"
      ]
     },
     "execution_count": 7,
     "metadata": {},
     "output_type": "execute_result"
    }
   ],
   "source": [
    "df_under"
   ]
  },
  {
   "cell_type": "code",
   "execution_count": 9,
   "id": "78f9c255",
   "metadata": {},
   "outputs": [],
   "source": [
    "df_under.to_parquet('train_undersampled_data.parquet')"
   ]
  },
  {
   "cell_type": "code",
   "execution_count": null,
   "id": "fe771014",
   "metadata": {},
   "outputs": [],
   "source": []
  }
 ],
 "metadata": {
  "kernelspec": {
   "display_name": "Python 3 (ipykernel)",
   "language": "python",
   "name": "python3"
  },
  "language_info": {
   "codemirror_mode": {
    "name": "ipython",
    "version": 3
   },
   "file_extension": ".py",
   "mimetype": "text/x-python",
   "name": "python",
   "nbconvert_exporter": "python",
   "pygments_lexer": "ipython3",
   "version": "3.8.10"
  }
 },
 "nbformat": 4,
 "nbformat_minor": 5
}
