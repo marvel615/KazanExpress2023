{
 "cells": [
  {
   "cell_type": "code",
   "execution_count": 1,
   "id": "a038b9dc",
   "metadata": {},
   "outputs": [],
   "source": [
    "import pyarrow\n",
    "import pandas as pd\n",
    "\n",
    "from bs4 import BeautifulSoup\n",
    "\n",
    "#для очистки текста\n",
    "import re"
   ]
  },
  {
   "cell_type": "code",
   "execution_count": 2,
   "id": "edb4088d",
   "metadata": {},
   "outputs": [],
   "source": [
    "data_test = pd.read_parquet(\"test.parquet\")"
   ]
  },
  {
   "cell_type": "code",
   "execution_count": 3,
   "id": "d369364b",
   "metadata": {},
   "outputs": [],
   "source": [
    "data_train = pd.read_parquet(\"train.parquet\")"
   ]
  },
  {
   "cell_type": "code",
   "execution_count": 4,
   "id": "9521b5dc",
   "metadata": {},
   "outputs": [
    {
     "data": {
      "text/html": [
       "<div>\n",
       "<style scoped>\n",
       "    .dataframe tbody tr th:only-of-type {\n",
       "        vertical-align: middle;\n",
       "    }\n",
       "\n",
       "    .dataframe tbody tr th {\n",
       "        vertical-align: top;\n",
       "    }\n",
       "\n",
       "    .dataframe thead th {\n",
       "        text-align: right;\n",
       "    }\n",
       "</style>\n",
       "<table border=\"1\" class=\"dataframe\">\n",
       "  <thead>\n",
       "    <tr style=\"text-align: right;\">\n",
       "      <th></th>\n",
       "      <th>product_id</th>\n",
       "      <th>category_id</th>\n",
       "      <th>sale</th>\n",
       "      <th>shop_id</th>\n",
       "      <th>shop_title</th>\n",
       "      <th>rating</th>\n",
       "      <th>text_fields</th>\n",
       "      <th>category_name</th>\n",
       "    </tr>\n",
       "  </thead>\n",
       "  <tbody>\n",
       "    <tr>\n",
       "      <th>0</th>\n",
       "      <td>325286</td>\n",
       "      <td>12171</td>\n",
       "      <td>False</td>\n",
       "      <td>9031</td>\n",
       "      <td>Aksik</td>\n",
       "      <td>5.0</td>\n",
       "      <td>{\"title\": \"Зарядный кабель Borofone BX1 Lightn...</td>\n",
       "      <td>Все категории-&gt;Электроника-&gt;Смартфоны и телефо...</td>\n",
       "    </tr>\n",
       "    <tr>\n",
       "      <th>1</th>\n",
       "      <td>888134</td>\n",
       "      <td>14233</td>\n",
       "      <td>False</td>\n",
       "      <td>18305</td>\n",
       "      <td>Sela</td>\n",
       "      <td>5.0</td>\n",
       "      <td>{\"title\": \"Трусы Sela\", \"description\": \"Трусы-...</td>\n",
       "      <td>Все категории-&gt;Одежда-&gt;Женская одежда-&gt;Белье и...</td>\n",
       "    </tr>\n",
       "    <tr>\n",
       "      <th>3</th>\n",
       "      <td>1267173</td>\n",
       "      <td>13429</td>\n",
       "      <td>False</td>\n",
       "      <td>16357</td>\n",
       "      <td>ЮНЛАНДИЯ канцтовары</td>\n",
       "      <td>5.0</td>\n",
       "      <td>{\"title\": \"Гуашь \\\"ЮНЫЙ ВОЛШЕБНИК\\\", 12 цветов...</td>\n",
       "      <td>Все категории-&gt;Хобби и творчество-&gt;Рисование-&gt;...</td>\n",
       "    </tr>\n",
       "    <tr>\n",
       "      <th>4</th>\n",
       "      <td>1416943</td>\n",
       "      <td>2789</td>\n",
       "      <td>False</td>\n",
       "      <td>34666</td>\n",
       "      <td>вася-nicotine</td>\n",
       "      <td>4.0</td>\n",
       "      <td>{\"title\": \"Колба для кальяна Крафт (разные цве...</td>\n",
       "      <td>Все категории-&gt;Хобби и творчество-&gt;Товары для ...</td>\n",
       "    </tr>\n",
       "    <tr>\n",
       "      <th>5</th>\n",
       "      <td>1058275</td>\n",
       "      <td>12834</td>\n",
       "      <td>False</td>\n",
       "      <td>26389</td>\n",
       "      <td>Lim Market</td>\n",
       "      <td>4.6</td>\n",
       "      <td>{\"title\": \"Пижама женская, однотонная с шортам...</td>\n",
       "      <td>Все категории-&gt;Одежда-&gt;Женская одежда-&gt;Домашня...</td>\n",
       "    </tr>\n",
       "  </tbody>\n",
       "</table>\n",
       "</div>"
      ],
      "text/plain": [
       "   product_id  category_id   sale  shop_id           shop_title  rating  \\\n",
       "0      325286        12171  False     9031                Aksik     5.0   \n",
       "1      888134        14233  False    18305                 Sela     5.0   \n",
       "3     1267173        13429  False    16357  ЮНЛАНДИЯ канцтовары     5.0   \n",
       "4     1416943         2789  False    34666        вася-nicotine     4.0   \n",
       "5     1058275        12834  False    26389           Lim Market     4.6   \n",
       "\n",
       "                                         text_fields  \\\n",
       "0  {\"title\": \"Зарядный кабель Borofone BX1 Lightn...   \n",
       "1  {\"title\": \"Трусы Sela\", \"description\": \"Трусы-...   \n",
       "3  {\"title\": \"Гуашь \\\"ЮНЫЙ ВОЛШЕБНИК\\\", 12 цветов...   \n",
       "4  {\"title\": \"Колба для кальяна Крафт (разные цве...   \n",
       "5  {\"title\": \"Пижама женская, однотонная с шортам...   \n",
       "\n",
       "                                       category_name  \n",
       "0  Все категории->Электроника->Смартфоны и телефо...  \n",
       "1  Все категории->Одежда->Женская одежда->Белье и...  \n",
       "3  Все категории->Хобби и творчество->Рисование->...  \n",
       "4  Все категории->Хобби и творчество->Товары для ...  \n",
       "5  Все категории->Одежда->Женская одежда->Домашня...  "
      ]
     },
     "execution_count": 4,
     "metadata": {},
     "output_type": "execute_result"
    }
   ],
   "source": [
    "data_train.head()"
   ]
  },
  {
   "cell_type": "markdown",
   "id": "2a585fc9",
   "metadata": {},
   "source": [
    "category_id - категория товара (таргет). Целевая метка!\n",
    "product_id - идентификатор товара\n",
    "\n",
    "\n",
    "Хотим научиться предсказывать категорию на основе описания, картинки и других параметрах товаров.\n",
    "Ниже приведем столбцы, которые нам НЕ НУЖНЫ для решения задачи:\n",
    "sale - флаг, обозначающий находится ли товар в распродаже;\n",
    "shop_id (seller_id) - id магазина (id-продавца);\n",
    "shop_title - название магазина;\n",
    "rating - рейтинг магазина"
   ]
  },
  {
   "cell_type": "markdown",
   "id": "66085a73",
   "metadata": {},
   "source": [
    "Чтобы составить входной столбце для обучения на текстовом описании предлагаю взять:\n",
    "1) последнее слово в category_name (после последней ->). Несёт больше всего информации для предсказания category_id\n",
    "\n",
    "2) title из text_fields. Название товара, тоже несёт много информации для category_id\n",
    "\n",
    "3) description из text_fields"
   ]
  },
  {
   "cell_type": "code",
   "execution_count": 5,
   "id": "fbe1d0c5",
   "metadata": {},
   "outputs": [],
   "source": [
    "#Для работы с изображениями нам понадобятся product_id (название файла .img) и category_id (целевая метка)\n",
    "data_train[['product_id', 'category_id']].to_csv('train_images.csv', sep='\\t')\n",
    "data_test[['product_id']].to_csv('test_images.csv', sep='\\t')\n",
    "\n",
    "#train_images = pd.read_csv('train_images.csv', sep='\\t', index_col=0)\n",
    "#test_images = pd.read_csv('test_images.csv', sep='\\t', index_col=0)"
   ]
  },
  {
   "cell_type": "code",
   "execution_count": null,
   "id": "9aacceca",
   "metadata": {},
   "outputs": [],
   "source": []
  },
  {
   "cell_type": "code",
   "execution_count": 6,
   "id": "ccb927cd",
   "metadata": {},
   "outputs": [],
   "source": [
    "def text_converter(text):\n",
    "    #clean emojis\n",
    "    emoji_pattern = re.compile(\"[\"\n",
    "        u\"\\U0001F600-\\U0001F64F\"  # emoticons\n",
    "        u\"\\U0001F300-\\U0001F5FF\"  # symbols & pictographs\n",
    "        u\"\\U0001F680-\\U0001F6FF\"  # transport & map symbols\n",
    "        u\"\\U0001F1E0-\\U0001F1FF\"  # flags (iOS)\n",
    "                           \"]+\", flags=re.UNICODE)\n",
    "    text_without_emoji = emoji_pattern.sub(r'', text)\n",
    "    \n",
    "    #clean punctuation marks\n",
    "    text_final = re.sub(r'[^\\w]', ' ', text_without_emoji)\n",
    "    \n",
    "    return str.lower(text_final)"
   ]
  },
  {
   "cell_type": "code",
   "execution_count": 7,
   "id": "849c983e",
   "metadata": {},
   "outputs": [],
   "source": [
    "def cat_name_add(df):\n",
    "    df_new = df.copy()\n",
    "    cat_names_lst = []\n",
    "    for i in range(len(df_new)):\n",
    "        cat_name_full = df['category_name'].iloc[i]\n",
    "        cat_name_list = cat_name_full.split(\"->\")\n",
    "        cat_name_current = cat_name_list[-1]\n",
    "        \n",
    "        cat_names_lst.append(text_converter(cat_name_current))\n",
    "        \n",
    "    df_new['cat_name'] = cat_names_lst\n",
    "    return df_new"
   ]
  },
  {
   "cell_type": "code",
   "execution_count": 8,
   "id": "2041cf8e",
   "metadata": {},
   "outputs": [],
   "source": [
    "def titles_add(df):\n",
    "    df_new = df.copy()\n",
    "    titles_lst = []\n",
    "    \n",
    "    dict_text_fields_all = list(df_new['text_fields'])\n",
    "    \n",
    "    for dict_text_fields_current in dict_text_fields_all:\n",
    "        #get Title\n",
    "        dict_text_fields = eval(dict_text_fields_current)\n",
    "        titles_lst.append(text_converter(dict_text_fields['title']))\n",
    "        \n",
    "    df_new['titles'] = titles_lst\n",
    "    return df_new"
   ]
  },
  {
   "cell_type": "code",
   "execution_count": 9,
   "id": "51a93817",
   "metadata": {},
   "outputs": [],
   "source": [
    "def description_add(df):\n",
    "    df_new = df.copy()\n",
    "    description_lst = []\n",
    "    \n",
    "    dict_text_fields_all = list(df_new['text_fields'])\n",
    "    \n",
    "    for dict_text_fields_current in dict_text_fields_all:\n",
    "        \n",
    "        #Get Description\n",
    "        dict_text_fields = eval(dict_text_fields_current)\n",
    "        parse_line = dict_text_fields['description']\n",
    "        \n",
    "        if (parse_line) != '':\n",
    "            soup = BeautifulSoup(parse_line)\n",
    "            p_parser = soup.body.find_all('p')\n",
    "            \n",
    "            text_str=''\n",
    "            for p_current in p_parser:\n",
    "                text_current = p_current.text\n",
    "                text_str += str(text_current)\n",
    "                \n",
    "            text_converted = text_converter(text_str)[:50] #достаточно\n",
    "            description_lst.append(text_converted)\n",
    "            \n",
    "        else:\n",
    "            description_lst.append(' ')\n",
    "        \n",
    "    df_new['description'] = description_lst\n",
    "    return df_new"
   ]
  },
  {
   "cell_type": "code",
   "execution_count": null,
   "id": "da9f3bb7",
   "metadata": {},
   "outputs": [],
   "source": []
  },
  {
   "cell_type": "code",
   "execution_count": 10,
   "id": "c2bb2b0b",
   "metadata": {},
   "outputs": [],
   "source": [
    "def train_data_preparation(df):\n",
    "    df_new = df.copy()\n",
    "    df_new1 = cat_name_add(df)\n",
    "    df_new2 = titles_add(df_new1)\n",
    "    df_new3 = description_add(df_new2)\n",
    "    \n",
    "    df_new3 = df_new3.assign(Docs=[str(x) + ' ' + str(y) + ' ' + str(z) for x, y, z in zip(df_new3['cat_name'], df_new3['titles'], df_new3['description'])])\n",
    "    df_new3.Docs = df_new3.Docs.astype('string')\n",
    "    df_new3.drop(['cat_name', 'titles', 'description'], axis=1, inplace=True)\n",
    "    \n",
    "    df_final = df_new3.drop(['sale', 'shop_id', 'shop_title', 'rating',\n",
    "                            'product_id', 'text_fields', 'category_name'], axis=1)\n",
    "    \n",
    "    return df_final"
   ]
  },
  {
   "cell_type": "code",
   "execution_count": 11,
   "id": "5b88adf7",
   "metadata": {},
   "outputs": [],
   "source": [
    "df_train = train_data_preparation(data_train)"
   ]
  },
  {
   "cell_type": "code",
   "execution_count": 12,
   "id": "df2fa86c",
   "metadata": {},
   "outputs": [
    {
     "data": {
      "text/html": [
       "<div>\n",
       "<style scoped>\n",
       "    .dataframe tbody tr th:only-of-type {\n",
       "        vertical-align: middle;\n",
       "    }\n",
       "\n",
       "    .dataframe tbody tr th {\n",
       "        vertical-align: top;\n",
       "    }\n",
       "\n",
       "    .dataframe thead th {\n",
       "        text-align: right;\n",
       "    }\n",
       "</style>\n",
       "<table border=\"1\" class=\"dataframe\">\n",
       "  <thead>\n",
       "    <tr style=\"text-align: right;\">\n",
       "      <th></th>\n",
       "      <th>category_id</th>\n",
       "      <th>Docs</th>\n",
       "    </tr>\n",
       "  </thead>\n",
       "  <tbody>\n",
       "    <tr>\n",
       "      <th>0</th>\n",
       "      <td>12171</td>\n",
       "      <td>кабели зарядный кабель borofone bx1 lightning ...</td>\n",
       "    </tr>\n",
       "    <tr>\n",
       "      <th>1</th>\n",
       "      <td>14233</td>\n",
       "      <td>трусы трусы sela трусы слипы из эластичного бе...</td>\n",
       "    </tr>\n",
       "    <tr>\n",
       "      <th>3</th>\n",
       "      <td>13429</td>\n",
       "      <td>краски  пигменты гуашь  юный волшебник   12 цв...</td>\n",
       "    </tr>\n",
       "    <tr>\n",
       "      <th>4</th>\n",
       "      <td>2789</td>\n",
       "      <td>колбы колба для кальяна крафт  разные цвета  у...</td>\n",
       "    </tr>\n",
       "    <tr>\n",
       "      <th>5</th>\n",
       "      <td>12834</td>\n",
       "      <td>пижамы пижама женская  однотонная с шортами лё...</td>\n",
       "    </tr>\n",
       "    <tr>\n",
       "      <th>6</th>\n",
       "      <td>13337</td>\n",
       "      <td>напальчники и накладки накладка чехол на стики...</td>\n",
       "    </tr>\n",
       "    <tr>\n",
       "      <th>7</th>\n",
       "      <td>12909</td>\n",
       "      <td>носки и подследники детские теплые носки детск...</td>\n",
       "    </tr>\n",
       "    <tr>\n",
       "      <th>8</th>\n",
       "      <td>11937</td>\n",
       "      <td>чехлы силиконовый чехол для айфон iphone 11  1...</td>\n",
       "    </tr>\n",
       "    <tr>\n",
       "      <th>9</th>\n",
       "      <td>11956</td>\n",
       "      <td>футболки футболка женская твое  повседневная  ...</td>\n",
       "    </tr>\n",
       "    <tr>\n",
       "      <th>10</th>\n",
       "      <td>14922</td>\n",
       "      <td>защитные стекла защитное стекло гибкое  пленка...</td>\n",
       "    </tr>\n",
       "  </tbody>\n",
       "</table>\n",
       "</div>"
      ],
      "text/plain": [
       "    category_id                                               Docs\n",
       "0         12171  кабели зарядный кабель borofone bx1 lightning ...\n",
       "1         14233  трусы трусы sela трусы слипы из эластичного бе...\n",
       "3         13429  краски  пигменты гуашь  юный волшебник   12 цв...\n",
       "4          2789  колбы колба для кальяна крафт  разные цвета  у...\n",
       "5         12834  пижамы пижама женская  однотонная с шортами лё...\n",
       "6         13337  напальчники и накладки накладка чехол на стики...\n",
       "7         12909  носки и подследники детские теплые носки детск...\n",
       "8         11937  чехлы силиконовый чехол для айфон iphone 11  1...\n",
       "9         11956  футболки футболка женская твое  повседневная  ...\n",
       "10        14922  защитные стекла защитное стекло гибкое  пленка..."
      ]
     },
     "execution_count": 12,
     "metadata": {},
     "output_type": "execute_result"
    }
   ],
   "source": [
    "df_train.head(10)"
   ]
  },
  {
   "cell_type": "code",
   "execution_count": 13,
   "id": "8f8dec6a",
   "metadata": {},
   "outputs": [
    {
     "data": {
      "text/plain": [
       "11937    6590\n",
       "14922    3709\n",
       "13651    1463\n",
       "13143    1460\n",
       "12980    1222\n",
       "         ... \n",
       "12808       2\n",
       "12901       1\n",
       "11549       1\n",
       "11875       1\n",
       "12836       1\n",
       "Name: category_id, Length: 874, dtype: int64"
      ]
     },
     "execution_count": 13,
     "metadata": {},
     "output_type": "execute_result"
    }
   ],
   "source": [
    "#Есть такие category_id, которые встречаются только один раз\n",
    "# Вывод: ДАТАСЕТ ОЧЕНЬ НЕСБАЛАНСИРОВАНЫЙ\n",
    "df_train['category_id'].value_counts()"
   ]
  },
  {
   "cell_type": "code",
   "execution_count": 14,
   "id": "997c4fa6",
   "metadata": {},
   "outputs": [
    {
     "data": {
      "text/plain": [
       "count     874.000000\n",
       "mean      104.256293\n",
       "std       300.107191\n",
       "min         1.000000\n",
       "25%        14.000000\n",
       "50%        38.000000\n",
       "75%        99.000000\n",
       "max      6590.000000\n",
       "Name: category_id, dtype: float64"
      ]
     },
     "execution_count": 14,
     "metadata": {},
     "output_type": "execute_result"
    }
   ],
   "source": [
    "df_train['category_id'].value_counts().describe()"
   ]
  },
  {
   "cell_type": "code",
   "execution_count": null,
   "id": "4645b6c8",
   "metadata": {},
   "outputs": [],
   "source": []
  },
  {
   "cell_type": "code",
   "execution_count": 15,
   "id": "51c6dc45",
   "metadata": {},
   "outputs": [],
   "source": [
    "def test_data_preparation(df):\n",
    "    df_new = df.copy()\n",
    "    \n",
    "    df_new2 = titles_add(df_new)\n",
    "    df_new3 = description_add(df_new2)\n",
    "    \n",
    "    df_new3 = df_new3.assign(Docs=[str(x) + ' ' + str(y) for x, y in zip(df_new3['titles'], df_new3['description'])])\n",
    "    df_new3.Docs = df_new3.Docs.astype('string')\n",
    "    df_new3.drop(['titles', 'description'], axis=1, inplace=True)\n",
    "    \n",
    "    df_final = df_new3.drop(['sale', 'shop_id', 'shop_title', \n",
    "                             'rating', 'text_fields'], axis=1)\n",
    "    \n",
    "    return df_final"
   ]
  },
  {
   "cell_type": "code",
   "execution_count": 16,
   "id": "b6393c80",
   "metadata": {},
   "outputs": [],
   "source": [
    "df_test = test_data_preparation(data_test)"
   ]
  },
  {
   "cell_type": "code",
   "execution_count": 17,
   "id": "f3bb3ad1",
   "metadata": {},
   "outputs": [
    {
     "data": {
      "text/html": [
       "<div>\n",
       "<style scoped>\n",
       "    .dataframe tbody tr th:only-of-type {\n",
       "        vertical-align: middle;\n",
       "    }\n",
       "\n",
       "    .dataframe tbody tr th {\n",
       "        vertical-align: top;\n",
       "    }\n",
       "\n",
       "    .dataframe thead th {\n",
       "        text-align: right;\n",
       "    }\n",
       "</style>\n",
       "<table border=\"1\" class=\"dataframe\">\n",
       "  <thead>\n",
       "    <tr style=\"text-align: right;\">\n",
       "      <th></th>\n",
       "      <th>product_id</th>\n",
       "      <th>Docs</th>\n",
       "    </tr>\n",
       "  </thead>\n",
       "  <tbody>\n",
       "    <tr>\n",
       "      <th>1</th>\n",
       "      <td>1997646</td>\n",
       "      <td>светодиодная лента smart led strip light  с пу...</td>\n",
       "    </tr>\n",
       "    <tr>\n",
       "      <th>2</th>\n",
       "      <td>927375</td>\n",
       "      <td>стекло пленка керамик матовое honor 50 lite 10...</td>\n",
       "    </tr>\n",
       "    <tr>\n",
       "      <th>3</th>\n",
       "      <td>1921513</td>\n",
       "      <td>проводные наушники с микрофоном jack 3 5  ios ...</td>\n",
       "    </tr>\n",
       "    <tr>\n",
       "      <th>4</th>\n",
       "      <td>1668662</td>\n",
       "      <td>декоративная табличка  правила кухни   подстав...</td>\n",
       "    </tr>\n",
       "    <tr>\n",
       "      <th>5</th>\n",
       "      <td>1467778</td>\n",
       "      <td>подставка под ложку керамическая  подложка  кл...</td>\n",
       "    </tr>\n",
       "  </tbody>\n",
       "</table>\n",
       "</div>"
      ],
      "text/plain": [
       "   product_id                                               Docs\n",
       "1     1997646  светодиодная лента smart led strip light  с пу...\n",
       "2      927375  стекло пленка керамик матовое honor 50 lite 10...\n",
       "3     1921513  проводные наушники с микрофоном jack 3 5  ios ...\n",
       "4     1668662  декоративная табличка  правила кухни   подстав...\n",
       "5     1467778  подставка под ложку керамическая  подложка  кл..."
      ]
     },
     "execution_count": 17,
     "metadata": {},
     "output_type": "execute_result"
    }
   ],
   "source": [
    "df_test.head()"
   ]
  },
  {
   "cell_type": "code",
   "execution_count": null,
   "id": "43a1fe41",
   "metadata": {},
   "outputs": [],
   "source": []
  },
  {
   "cell_type": "code",
   "execution_count": 18,
   "id": "15e7b2a6",
   "metadata": {},
   "outputs": [],
   "source": [
    "#Сохраним данные для обучения\n",
    "df_train.to_parquet('train_data.parquet')\n",
    "df_test.to_parquet('test_data.parquet')"
   ]
  },
  {
   "cell_type": "markdown",
   "id": "591670d2",
   "metadata": {},
   "source": [
    "На этих данных будем обучаться в папке \"1 Fast Text Imbalanced\""
   ]
  }
 ],
 "metadata": {
  "kernelspec": {
   "display_name": "Python 3 (ipykernel)",
   "language": "python",
   "name": "python3"
  },
  "language_info": {
   "codemirror_mode": {
    "name": "ipython",
    "version": 3
   },
   "file_extension": ".py",
   "mimetype": "text/x-python",
   "name": "python",
   "nbconvert_exporter": "python",
   "pygments_lexer": "ipython3",
   "version": "3.8.10"
  }
 },
 "nbformat": 4,
 "nbformat_minor": 5
}
