{
 "cells": [
  {
   "cell_type": "code",
   "execution_count": 1,
   "id": "bf7fc90d",
   "metadata": {},
   "outputs": [],
   "source": [
    "import numpy as np \n",
    "import pandas as pd\n",
    "import csv"
   ]
  },
  {
   "cell_type": "code",
   "execution_count": 2,
   "id": "660f0a68",
   "metadata": {},
   "outputs": [],
   "source": [
    "#!pip install fasttext\n",
    "import fasttext"
   ]
  },
  {
   "cell_type": "code",
   "execution_count": 4,
   "id": "7d422fe9",
   "metadata": {},
   "outputs": [],
   "source": [
    "#!pip install gensim\n",
    "from gensim.utils import simple_preprocess"
   ]
  },
  {
   "cell_type": "markdown",
   "id": "bf68be7a",
   "metadata": {},
   "source": [
    "Не забудьте в папку с этим .ipynb-файлом добавить parquet-файлы train_oversampled_cleanest_data, train_undersampled_cleanest_data и test_data_cleaned из \"03 Preprocessing balanced\""
   ]
  },
  {
   "cell_type": "code",
   "execution_count": 5,
   "id": "06af2d69",
   "metadata": {},
   "outputs": [],
   "source": [
    "train_data_undersampled = pd.read_parquet('train_undersampled_cleanest_data.parquet')\n",
    "train_data_oversampled = pd.read_parquet('train_oversampled_cleanest_data.parquet')"
   ]
  },
  {
   "cell_type": "code",
   "execution_count": 6,
   "id": "bed825b0",
   "metadata": {},
   "outputs": [
    {
     "name": "stderr",
     "output_type": "stream",
     "text": [
      "/tmp/ipykernel_303/4005272923.py:1: FutureWarning: The frame.append method is deprecated and will be removed from pandas in a future version. Use pandas.concat instead.\n",
      "  train_data = train_data_undersampled.append(train_data_oversampled, ignore_index=True)\n"
     ]
    }
   ],
   "source": [
    "train_data = train_data_undersampled.append(train_data_oversampled, ignore_index=True)"
   ]
  },
  {
   "cell_type": "code",
   "execution_count": 7,
   "id": "05178e0f",
   "metadata": {},
   "outputs": [
    {
     "data": {
      "text/html": [
       "<div>\n",
       "<style scoped>\n",
       "    .dataframe tbody tr th:only-of-type {\n",
       "        vertical-align: middle;\n",
       "    }\n",
       "\n",
       "    .dataframe tbody tr th {\n",
       "        vertical-align: top;\n",
       "    }\n",
       "\n",
       "    .dataframe thead th {\n",
       "        text-align: right;\n",
       "    }\n",
       "</style>\n",
       "<table border=\"1\" class=\"dataframe\">\n",
       "  <thead>\n",
       "    <tr style=\"text-align: right;\">\n",
       "      <th></th>\n",
       "      <th>category_id</th>\n",
       "      <th>Docs</th>\n",
       "    </tr>\n",
       "  </thead>\n",
       "  <tbody>\n",
       "    <tr>\n",
       "      <th>0</th>\n",
       "      <td>11937</td>\n",
       "      <td>чехол плотный чехол xiaomi poco m3     redmi 9...</td>\n",
       "    </tr>\n",
       "    <tr>\n",
       "      <th>1</th>\n",
       "      <td>11937</td>\n",
       "      <td>чехол силиконовый чехол принт iphone 6 6s    7...</td>\n",
       "    </tr>\n",
       "    <tr>\n",
       "      <th>2</th>\n",
       "      <td>11937</td>\n",
       "      <td>чехол чехол oneplus 7t pro черный силиконовый ...</td>\n",
       "    </tr>\n",
       "    <tr>\n",
       "      <th>3</th>\n",
       "      <td>11937</td>\n",
       "      <td>чехол чехол samsung galaxy a50     a50s     a3...</td>\n",
       "    </tr>\n",
       "    <tr>\n",
       "      <th>4</th>\n",
       "      <td>11937</td>\n",
       "      <td>чехол силиконовый чехол xiaomi redmi 4x    кож...</td>\n",
       "    </tr>\n",
       "  </tbody>\n",
       "</table>\n",
       "</div>"
      ],
      "text/plain": [
       "   category_id                                               Docs\n",
       "0        11937  чехол плотный чехол xiaomi poco m3     redmi 9...\n",
       "1        11937  чехол силиконовый чехол принт iphone 6 6s    7...\n",
       "2        11937  чехол чехол oneplus 7t pro черный силиконовый ...\n",
       "3        11937  чехол чехол samsung galaxy a50     a50s     a3...\n",
       "4        11937  чехол силиконовый чехол xiaomi redmi 4x    кож..."
      ]
     },
     "execution_count": 7,
     "metadata": {},
     "output_type": "execute_result"
    }
   ],
   "source": [
    "train_data.head()"
   ]
  },
  {
   "cell_type": "code",
   "execution_count": 8,
   "id": "7c77540d",
   "metadata": {},
   "outputs": [
    {
     "data": {
      "text/plain": [
       "count    874.0\n",
       "mean      50.0\n",
       "std        0.0\n",
       "min       50.0\n",
       "25%       50.0\n",
       "50%       50.0\n",
       "75%       50.0\n",
       "max       50.0\n",
       "Name: category_id, dtype: float64"
      ]
     },
     "execution_count": 8,
     "metadata": {},
     "output_type": "execute_result"
    }
   ],
   "source": [
    "#Выборка сбалансирована\n",
    "train_data['category_id'].value_counts().describe()"
   ]
  },
  {
   "cell_type": "code",
   "execution_count": 9,
   "id": "60cfc40b",
   "metadata": {},
   "outputs": [],
   "source": [
    "#Подготовка к FastText\n",
    "train_data.Docs = train_data.Docs.apply(lambda x: ' '.join(simple_preprocess(x)))\n",
    "train_data.category_id = train_data.category_id.apply(lambda x: '__label__' + str(x))"
   ]
  },
  {
   "cell_type": "code",
   "execution_count": 10,
   "id": "f7394b70",
   "metadata": {},
   "outputs": [],
   "source": [
    "#Размешаем данные\n",
    "train_data_new = train_data.sample(frac=1, random_state=17)"
   ]
  },
  {
   "cell_type": "code",
   "execution_count": 11,
   "id": "a1714dd9",
   "metadata": {},
   "outputs": [],
   "source": [
    "#у нас в выборке 43700 объектов. Возьмем 5000 чтобы быстрее обучать\n",
    "train_data_learn = train_data_new.sample(5000)"
   ]
  },
  {
   "cell_type": "code",
   "execution_count": 12,
   "id": "76628d7d",
   "metadata": {},
   "outputs": [],
   "source": [
    "#Разбиваем на train/val\n",
    "n = int(0.8*len(train_data_learn))\n",
    "train_df = train_data_learn[:n]\n",
    "val_df = train_data_learn[n:]"
   ]
  },
  {
   "cell_type": "code",
   "execution_count": 13,
   "id": "7dd7cf54",
   "metadata": {},
   "outputs": [],
   "source": [
    "# сохраняем csv в txt. Это важно для FastText\n",
    "train_df[['Docs', 'category_id']].to_csv('fasttext_balanced_train.txt',\n",
    "                index = False, sep = ' ', header = None,\n",
    "                quoting = csv.QUOTE_NONE, quotechar = \"\", escapechar = \" \")\n",
    "\n",
    "val_df[['Docs', 'category_id']].to_csv('fasttext_balanced_val.txt', index = False, sep = ' ', header = None, \n",
    "              quoting = csv.QUOTE_NONE, quotechar = \"\", escapechar = \" \")"
   ]
  },
  {
   "cell_type": "code",
   "execution_count": null,
   "id": "4e11068c",
   "metadata": {},
   "outputs": [],
   "source": [
    "'''\n",
    "ИЗ ПРЕДЫДУЩЕГО ПЕРЕБОБРА ПАРАМЕТРОВ\n",
    "********CURRENT BEST PARAMS*******\n",
    "0.8483316481294236\n",
    "lr =  3.0\n",
    "dim =  95\n",
    "ws =  3\n",
    "epoch =  65\n",
    "neg =  3\n",
    "wordNgrams =  3\n",
    "******************\n",
    "\n",
    "ВЫВОД:\n",
    "1) 65 эпох для обучения идеально\n",
    "2) lr=3.0\n",
    "3) dim = 95\n",
    "4) ws = 3\n",
    "5) neg =  3\n",
    "6) wordNgrams =  3\n",
    "'''"
   ]
  },
  {
   "cell_type": "code",
   "execution_count": 14,
   "id": "6166dd1d",
   "metadata": {},
   "outputs": [],
   "source": [
    "epochs_list = [65]\n",
    "dim_lst =  [90, 95, 100]\n",
    "neg_lst = [3]\n",
    "ws_lst = [3]\n",
    "wordNgrams_lst = [3]\n",
    "lr_lst = [3.0]"
   ]
  },
  {
   "cell_type": "code",
   "execution_count": 15,
   "id": "551d9323",
   "metadata": {},
   "outputs": [
    {
     "name": "stdout",
     "output_type": "stream",
     "text": [
      "Epochs:  65\n",
      "* dim:  90\n",
      "** neg:  3\n",
      "*** ws =  3\n",
      "**** wordNgrams =  3\n",
      "***** lr =  3.0\n"
     ]
    },
    {
     "name": "stderr",
     "output_type": "stream",
     "text": [
      "Read 0M words\n",
      "Number of words:  7350\n",
      "Number of labels: 866\n",
      "Progress: 100.0% words/sec/thread:   36240 lr:  0.000000 avg.loss:  0.602423 ETA:   0h 0m 0s\n",
      "Read 0M words\n",
      "Number of words:  7350\n",
      "Number of labels: 866\n"
     ]
    },
    {
     "name": "stdout",
     "output_type": "stream",
     "text": [
      "********CURRENT BEST PARAMS*******\n",
      "0.8494949494949496\n",
      "lr =  3.0\n",
      "dim =  90\n",
      "ws =  3\n",
      "epoch =  65\n",
      "neg =  3\n",
      "wordNgrams =  3\n",
      "******************\n",
      " \n",
      "* dim:  95\n",
      "** neg:  3\n",
      "*** ws =  3\n",
      "**** wordNgrams =  3\n",
      "***** lr =  3.0\n"
     ]
    },
    {
     "name": "stderr",
     "output_type": "stream",
     "text": [
      "Progress: 100.0% words/sec/thread:   33111 lr:  0.000000 avg.loss:  0.612325 ETA:   0h 0m 0s lr: -0.000086 avg.loss:  0.612325 ETA:   0h 0m 0s\n",
      "Read 0M words\n",
      "Number of words:  7350\n",
      "Number of labels: 866\n"
     ]
    },
    {
     "name": "stdout",
     "output_type": "stream",
     "text": [
      "********CURRENT BEST PARAMS*******\n",
      "0.8525252525252525\n",
      "lr =  3.0\n",
      "dim =  95\n",
      "ws =  3\n",
      "epoch =  65\n",
      "neg =  3\n",
      "wordNgrams =  3\n",
      "******************\n",
      " \n",
      "* dim:  100\n",
      "** neg:  3\n",
      "*** ws =  3\n",
      "**** wordNgrams =  3\n",
      "***** lr =  3.0\n"
     ]
    },
    {
     "name": "stderr",
     "output_type": "stream",
     "text": [
      "Progress: 100.0% words/sec/thread:   29772 lr: -0.000015 avg.loss:  0.600734 ETA:   0h 0m 0s"
     ]
    },
    {
     "name": "stdout",
     "output_type": "stream",
     "text": [
      "********CURRENT BEST PARAMS*******\n",
      "0.8555555555555555\n",
      "lr =  3.0\n",
      "dim =  100\n",
      "ws =  3\n",
      "epoch =  65\n",
      "neg =  3\n",
      "wordNgrams =  3\n",
      "******************\n",
      " \n"
     ]
    },
    {
     "name": "stderr",
     "output_type": "stream",
     "text": [
      "m 0s\r",
      "Progress: 100.0% words/sec/thread:   29772 lr:  0.000000 avg.loss:  0.600734 ETA:   0h 0m 0s\n"
     ]
    }
   ],
   "source": [
    "val_f1 = 0\n",
    "for epochs in epochs_list:\n",
    "    print('Epochs: ', epochs)\n",
    "    for dim in dim_lst:\n",
    "        print('* dim: ', dim)\n",
    "        for neg in neg_lst:\n",
    "            print('** neg: ', neg)\n",
    "            for ws in ws_lst:\n",
    "                print('*** ws = ', ws)\n",
    "                for w in wordNgrams_lst:\n",
    "                    print('**** wordNgrams = ', w)\n",
    "                    for lr in lr_lst:\n",
    "                        print('***** lr = ', lr)\n",
    "                        model = fasttext.train_supervised('fasttext_balanced_train.txt',\n",
    "                                                          lr=lr, \n",
    "                                                          dim=dim, \n",
    "                                                          ws=ws,\n",
    "                                                          epoch=epochs,\n",
    "                                                          neg=neg,\n",
    "                                                          wordNgrams=w)\n",
    "                        \n",
    "                        _, precision, recall = model.test('fasttext_balanced_val.txt')\n",
    "                        \n",
    "                        val_cur = (2*precision*recall) / (precision+recall)\n",
    "                        if (val_cur > val_f1):\n",
    "                            val_f1 = val_cur\n",
    "                            print('********CURRENT BEST PARAMS*******')\n",
    "                            print(val_f1)\n",
    "                            print('lr = ', lr)\n",
    "                            print('dim = ', dim)\n",
    "                            print('ws = ', ws)\n",
    "                            print('epoch = ', epochs)\n",
    "                            print('neg = ', neg)\n",
    "                            print('wordNgrams = ', w)\n",
    "                            print('******************')\n",
    "                            print(' ')"
   ]
  },
  {
   "cell_type": "markdown",
   "id": "8fcb4d8e",
   "metadata": {},
   "source": [
    "Добились качества 0.85556 при подборе параметров.\n",
    "\n",
    "Теперь обучим модель на всём датасете и получим предсказания для тестовой выборки"
   ]
  },
  {
   "cell_type": "code",
   "execution_count": 16,
   "id": "68b30bec",
   "metadata": {},
   "outputs": [
    {
     "data": {
      "text/html": [
       "<div>\n",
       "<style scoped>\n",
       "    .dataframe tbody tr th:only-of-type {\n",
       "        vertical-align: middle;\n",
       "    }\n",
       "\n",
       "    .dataframe tbody tr th {\n",
       "        vertical-align: top;\n",
       "    }\n",
       "\n",
       "    .dataframe thead th {\n",
       "        text-align: right;\n",
       "    }\n",
       "</style>\n",
       "<table border=\"1\" class=\"dataframe\">\n",
       "  <thead>\n",
       "    <tr style=\"text-align: right;\">\n",
       "      <th></th>\n",
       "      <th>category_id</th>\n",
       "      <th>Docs</th>\n",
       "    </tr>\n",
       "  </thead>\n",
       "  <tbody>\n",
       "    <tr>\n",
       "      <th>8166</th>\n",
       "      <td>__label__2824</td>\n",
       "      <td>спортивный костюм спортивный костюм женский фл...</td>\n",
       "    </tr>\n",
       "    <tr>\n",
       "      <th>26413</th>\n",
       "      <td>__label__12285</td>\n",
       "      <td>перчатка сенсорный экран сенсорный напальчник ...</td>\n",
       "    </tr>\n",
       "    <tr>\n",
       "      <th>32171</th>\n",
       "      <td>__label__13157</td>\n",
       "      <td>куртка куртка мужской демисезонный куртка деми...</td>\n",
       "    </tr>\n",
       "    <tr>\n",
       "      <th>8341</th>\n",
       "      <td>__label__12863</td>\n",
       "      <td>стакан стакан крышка напиток стакан крышка отл...</td>\n",
       "    </tr>\n",
       "    <tr>\n",
       "      <th>7248</th>\n",
       "      <td>__label__13511</td>\n",
       "      <td>свитер свитер женский объемный рукав облегать ...</td>\n",
       "    </tr>\n",
       "  </tbody>\n",
       "</table>\n",
       "</div>"
      ],
      "text/plain": [
       "          category_id                                               Docs\n",
       "8166    __label__2824  спортивный костюм спортивный костюм женский фл...\n",
       "26413  __label__12285  перчатка сенсорный экран сенсорный напальчник ...\n",
       "32171  __label__13157  куртка куртка мужской демисезонный куртка деми...\n",
       "8341   __label__12863  стакан стакан крышка напиток стакан крышка отл...\n",
       "7248   __label__13511  свитер свитер женский объемный рукав облегать ..."
      ]
     },
     "execution_count": 16,
     "metadata": {},
     "output_type": "execute_result"
    }
   ],
   "source": [
    "train_data_new.head()"
   ]
  },
  {
   "cell_type": "code",
   "execution_count": 17,
   "id": "57cd83b6",
   "metadata": {},
   "outputs": [
    {
     "data": {
      "text/plain": [
       "43700"
      ]
     },
     "execution_count": 17,
     "metadata": {},
     "output_type": "execute_result"
    }
   ],
   "source": [
    "len(train_data_new) #длина полного датасета"
   ]
  },
  {
   "cell_type": "code",
   "execution_count": 18,
   "id": "2ea4d5a2",
   "metadata": {},
   "outputs": [],
   "source": [
    "train_data_new[['Docs', 'category_id']].to_csv('fasttext_balanced_train_full.txt',\n",
    "                index = False, sep = ' ', header = None,\n",
    "                quoting = csv.QUOTE_NONE, quotechar = \"\", escapechar = \" \")"
   ]
  },
  {
   "cell_type": "code",
   "execution_count": null,
   "id": "80e857d0",
   "metadata": {},
   "outputs": [],
   "source": [
    "'''лучшие параметры для сбалансированной выборки\n",
    "1) 65 эпох для обучения идеально\n",
    "2) lr=3.0\n",
    "3) dim = 100\n",
    "4) ws = 3\n",
    "5) neg =  3\n",
    "6) wordNgrams =  3 '''"
   ]
  },
  {
   "cell_type": "code",
   "execution_count": 19,
   "id": "9adad7b5",
   "metadata": {},
   "outputs": [
    {
     "name": "stderr",
     "output_type": "stream",
     "text": [
      "Read 0M words\n",
      "Number of words:  20536\n",
      "Number of labels: 874\n",
      "Progress: 100.0% words/sec/thread:   30979 lr:  0.000000 avg.loss:  0.548375 ETA:   0h 0m 0s\n"
     ]
    }
   ],
   "source": [
    "model_full = fasttext.train_supervised('fasttext_balanced_train_full.txt', \n",
    "                                       lr=3.0, \n",
    "                                       dim=100, \n",
    "                                       ws=3, \n",
    "                                       epoch=65, \n",
    "                                       neg=3, \n",
    "                                       wordNgrams=3)"
   ]
  },
  {
   "cell_type": "code",
   "execution_count": null,
   "id": "15ede6af",
   "metadata": {},
   "outputs": [],
   "source": []
  },
  {
   "cell_type": "code",
   "execution_count": 20,
   "id": "437c94c4",
   "metadata": {},
   "outputs": [],
   "source": [
    "test_data = pd.read_parquet('test_data_cleaned.parquet')"
   ]
  },
  {
   "cell_type": "code",
   "execution_count": 21,
   "id": "f6eeb265",
   "metadata": {},
   "outputs": [
    {
     "data": {
      "text/html": [
       "<div>\n",
       "<style scoped>\n",
       "    .dataframe tbody tr th:only-of-type {\n",
       "        vertical-align: middle;\n",
       "    }\n",
       "\n",
       "    .dataframe tbody tr th {\n",
       "        vertical-align: top;\n",
       "    }\n",
       "\n",
       "    .dataframe thead th {\n",
       "        text-align: right;\n",
       "    }\n",
       "</style>\n",
       "<table border=\"1\" class=\"dataframe\">\n",
       "  <thead>\n",
       "    <tr style=\"text-align: right;\">\n",
       "      <th></th>\n",
       "      <th>product_id</th>\n",
       "      <th>Docs</th>\n",
       "    </tr>\n",
       "  </thead>\n",
       "  <tbody>\n",
       "    <tr>\n",
       "      <th>1</th>\n",
       "      <td>1997646</td>\n",
       "      <td>светодиодный лента smart led strip light    пу...</td>\n",
       "    </tr>\n",
       "    <tr>\n",
       "      <th>2</th>\n",
       "      <td>927375</td>\n",
       "      <td>стекло пленка керамика матовый honor 50 lite 1...</td>\n",
       "    </tr>\n",
       "    <tr>\n",
       "      <th>3</th>\n",
       "      <td>1921513</td>\n",
       "      <td>проводной наушник микрофон jack 3 5    ios    ...</td>\n",
       "    </tr>\n",
       "    <tr>\n",
       "      <th>4</th>\n",
       "      <td>1668662</td>\n",
       "      <td>декоративный табличка    правило кухня     под...</td>\n",
       "    </tr>\n",
       "    <tr>\n",
       "      <th>5</th>\n",
       "      <td>1467778</td>\n",
       "      <td>подставка ложка керамический    подложка    кл...</td>\n",
       "    </tr>\n",
       "  </tbody>\n",
       "</table>\n",
       "</div>"
      ],
      "text/plain": [
       "   product_id                                               Docs\n",
       "1     1997646  светодиодный лента smart led strip light    пу...\n",
       "2      927375  стекло пленка керамика матовый honor 50 lite 1...\n",
       "3     1921513  проводной наушник микрофон jack 3 5    ios    ...\n",
       "4     1668662  декоративный табличка    правило кухня     под...\n",
       "5     1467778  подставка ложка керамический    подложка    кл..."
      ]
     },
     "execution_count": 21,
     "metadata": {},
     "output_type": "execute_result"
    }
   ],
   "source": [
    "test_data.head()"
   ]
  },
  {
   "cell_type": "code",
   "execution_count": null,
   "id": "c7aeca6b",
   "metadata": {},
   "outputs": [],
   "source": []
  },
  {
   "cell_type": "code",
   "execution_count": 22,
   "id": "9bb3b503",
   "metadata": {},
   "outputs": [],
   "source": [
    "def make_predicts(df_test):\n",
    "    df = df_test.copy()\n",
    "    preds = []\n",
    "    \n",
    "    for i in range(len(df)):\n",
    "        pred = int(model_full.predict(test_data['Docs'].iloc[i])[0][0][9:])\n",
    "        preds.append(pred)\n",
    "        \n",
    "    df['predicted_category_id'] = preds\n",
    "    df.drop(['Docs'], axis=1, inplace=True)\n",
    "    \n",
    "    return df"
   ]
  },
  {
   "cell_type": "code",
   "execution_count": 23,
   "id": "ef6f8ced",
   "metadata": {},
   "outputs": [],
   "source": [
    "my_result = make_predicts(test_data)"
   ]
  },
  {
   "cell_type": "code",
   "execution_count": 24,
   "id": "8be0a1ef",
   "metadata": {},
   "outputs": [
    {
     "data": {
      "text/html": [
       "<div>\n",
       "<style scoped>\n",
       "    .dataframe tbody tr th:only-of-type {\n",
       "        vertical-align: middle;\n",
       "    }\n",
       "\n",
       "    .dataframe tbody tr th {\n",
       "        vertical-align: top;\n",
       "    }\n",
       "\n",
       "    .dataframe thead th {\n",
       "        text-align: right;\n",
       "    }\n",
       "</style>\n",
       "<table border=\"1\" class=\"dataframe\">\n",
       "  <thead>\n",
       "    <tr style=\"text-align: right;\">\n",
       "      <th></th>\n",
       "      <th>product_id</th>\n",
       "      <th>predicted_category_id</th>\n",
       "    </tr>\n",
       "  </thead>\n",
       "  <tbody>\n",
       "    <tr>\n",
       "      <th>1</th>\n",
       "      <td>1997646</td>\n",
       "      <td>14207</td>\n",
       "    </tr>\n",
       "    <tr>\n",
       "      <th>2</th>\n",
       "      <td>927375</td>\n",
       "      <td>14922</td>\n",
       "    </tr>\n",
       "    <tr>\n",
       "      <th>3</th>\n",
       "      <td>1921513</td>\n",
       "      <td>2803</td>\n",
       "    </tr>\n",
       "    <tr>\n",
       "      <th>4</th>\n",
       "      <td>1668662</td>\n",
       "      <td>12524</td>\n",
       "    </tr>\n",
       "    <tr>\n",
       "      <th>5</th>\n",
       "      <td>1467778</td>\n",
       "      <td>14867</td>\n",
       "    </tr>\n",
       "    <tr>\n",
       "      <th>...</th>\n",
       "      <td>...</td>\n",
       "      <td>...</td>\n",
       "    </tr>\n",
       "    <tr>\n",
       "      <th>24987</th>\n",
       "      <td>1914264</td>\n",
       "      <td>11645</td>\n",
       "    </tr>\n",
       "    <tr>\n",
       "      <th>24988</th>\n",
       "      <td>1310569</td>\n",
       "      <td>12357</td>\n",
       "    </tr>\n",
       "    <tr>\n",
       "      <th>24989</th>\n",
       "      <td>978095</td>\n",
       "      <td>14867</td>\n",
       "    </tr>\n",
       "    <tr>\n",
       "      <th>24992</th>\n",
       "      <td>797547</td>\n",
       "      <td>13234</td>\n",
       "    </tr>\n",
       "    <tr>\n",
       "      <th>24995</th>\n",
       "      <td>703835</td>\n",
       "      <td>11757</td>\n",
       "    </tr>\n",
       "  </tbody>\n",
       "</table>\n",
       "<p>16860 rows × 2 columns</p>\n",
       "</div>"
      ],
      "text/plain": [
       "       product_id  predicted_category_id\n",
       "1         1997646                  14207\n",
       "2          927375                  14922\n",
       "3         1921513                   2803\n",
       "4         1668662                  12524\n",
       "5         1467778                  14867\n",
       "...           ...                    ...\n",
       "24987     1914264                  11645\n",
       "24988     1310569                  12357\n",
       "24989      978095                  14867\n",
       "24992      797547                  13234\n",
       "24995      703835                  11757\n",
       "\n",
       "[16860 rows x 2 columns]"
      ]
     },
     "execution_count": 24,
     "metadata": {},
     "output_type": "execute_result"
    }
   ],
   "source": [
    "my_result"
   ]
  },
  {
   "cell_type": "code",
   "execution_count": 25,
   "id": "91db7419",
   "metadata": {},
   "outputs": [],
   "source": [
    "# Сохраняем ответ полученный из текстовых данных\n",
    "my_result.to_parquet('resulttext.parquet')"
   ]
  },
  {
   "cell_type": "markdown",
   "id": "4f124f09",
   "metadata": {},
   "source": [
    "#### Итог:  К сожалению, призового места в соревнованиях не занял. "
   ]
  },
  {
   "cell_type": "markdown",
   "id": "9dad9200",
   "metadata": {},
   "source": [
    "Бронзовый призёр соревнований тоже использовал fasttext, подставим его лучшие параметры (которые дали score 0.86) и проверим какое качество дадут эти параметры на моих данных"
   ]
  },
  {
   "cell_type": "markdown",
   "id": "793d4640",
   "metadata": {},
   "source": [
    "Параметры призёра: lr=0.35, dim=80, ws=7, epoch=40, neg=7, wordNgrams=2. "
   ]
  },
  {
   "cell_type": "code",
   "execution_count": 26,
   "id": "66d9c1ed",
   "metadata": {},
   "outputs": [],
   "source": [
    "epochs_list = [40]\n",
    "dim_lst =  [80]\n",
    "neg_lst = [7]\n",
    "ws_lst = [7]\n",
    "wordNgrams_lst = [2]\n",
    "lr_lst = [0.35]"
   ]
  },
  {
   "cell_type": "code",
   "execution_count": 27,
   "id": "ff94d57a",
   "metadata": {},
   "outputs": [
    {
     "name": "stdout",
     "output_type": "stream",
     "text": [
      "Epochs:  40\n",
      "* dim:  80\n",
      "** neg:  7\n",
      "*** ws =  7\n",
      "**** wordNgrams =  2\n",
      "***** lr =  0.35\n"
     ]
    },
    {
     "name": "stderr",
     "output_type": "stream",
     "text": [
      "Read 0M words\n",
      "Number of words:  7350\n",
      "Number of labels: 866\n",
      "Progress: 100.0% words/sec/thread:   42310 lr:  0.000051 avg.loss:  5.261577 ETA:   0h 0m 0s 62.3% words/sec/thread:   43181 lr:  0.131950 avg.loss:  8.254111 ETA:   0h 0m 6s\r"
     ]
    },
    {
     "name": "stdout",
     "output_type": "stream",
     "text": [
      "********CURRENT BEST PARAMS*******\n",
      "0.7404040404040403\n",
      "lr =  0.35\n",
      "dim =  80\n",
      "ws =  7\n",
      "epoch =  40\n",
      "neg =  7\n",
      "wordNgrams =  2\n",
      "******************\n",
      " \n"
     ]
    },
    {
     "name": "stderr",
     "output_type": "stream",
     "text": [
      "Progress: 100.0% words/sec/thread:   42070 lr: -0.000000 avg.loss:  5.260676 ETA:   0h 0m 0s\r",
      "Progress: 100.0% words/sec/thread:   42069 lr:  0.000000 avg.loss:  5.260676 ETA:   0h 0m 0s\n"
     ]
    }
   ],
   "source": [
    "val_f1 = 0\n",
    "for epochs in epochs_list:\n",
    "    print('Epochs: ', epochs)\n",
    "    for dim in dim_lst:\n",
    "        print('* dim: ', dim)\n",
    "        for neg in neg_lst:\n",
    "            print('** neg: ', neg)\n",
    "            for ws in ws_lst:\n",
    "                print('*** ws = ', ws)\n",
    "                for w in wordNgrams_lst:\n",
    "                    print('**** wordNgrams = ', w)\n",
    "                    for lr in lr_lst:\n",
    "                        print('***** lr = ', lr)\n",
    "                        model = fasttext.train_supervised('fasttext_balanced_train.txt',\n",
    "                                                          lr=lr, \n",
    "                                                          dim=dim, \n",
    "                                                          ws=ws,\n",
    "                                                          epoch=epochs,\n",
    "                                                          neg=neg,\n",
    "                                                          wordNgrams=w)\n",
    "                        \n",
    "                        _, precision, recall = model.test('fasttext_balanced_val.txt')\n",
    "                        \n",
    "                        val_cur = (2*precision*recall) / (precision+recall)\n",
    "                        if (val_cur > val_f1):\n",
    "                            val_f1 = val_cur\n",
    "                            print('********CURRENT BEST PARAMS*******')\n",
    "                            print(val_f1)\n",
    "                            print('lr = ', lr)\n",
    "                            print('dim = ', dim)\n",
    "                            print('ws = ', ws)\n",
    "                            print('epoch = ', epochs)\n",
    "                            print('neg = ', neg)\n",
    "                            print('wordNgrams = ', w)\n",
    "                            print('******************')\n",
    "                            print(' ')"
   ]
  },
  {
   "cell_type": "markdown",
   "id": "df5811a3",
   "metadata": {},
   "source": [
    "Качество даже не близко с 0.86"
   ]
  }
 ],
 "metadata": {
  "kernelspec": {
   "display_name": "Python 3 (ipykernel)",
   "language": "python",
   "name": "python3"
  },
  "language_info": {
   "codemirror_mode": {
    "name": "ipython",
    "version": 3
   },
   "file_extension": ".py",
   "mimetype": "text/x-python",
   "name": "python",
   "nbconvert_exporter": "python",
   "pygments_lexer": "ipython3",
   "version": "3.8.10"
  }
 },
 "nbformat": 4,
 "nbformat_minor": 5
}
